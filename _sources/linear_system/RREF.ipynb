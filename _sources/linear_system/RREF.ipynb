{
 "cells": [
  {
   "cell_type": "markdown",
   "id": "corrected-monthly",
   "metadata": {},
   "source": [
    "# RRE form\n",
    "\n",
    "It's time to get more formal and precise about row elimination. We separate it into downward and upward phases.  In what follows we use the term **leading nonzero** to mean the first (i.e., leftmost) entry of a row that is not zero.\n",
    "\n",
    "(definition-linalg-phase1)=\n",
    "::::{proof:algorithm}  Row elimination downward phase\n",
    "1. Set $i=1$.\n",
    "2. Find the leftmost leading nonzero in rows $i$ and below. The column of this leading nonzero is known as the **pivot column**. If no such column exists, stop.\n",
    "3. As necessary, swap rows and/or multiply a row by a constant to put a 1 in the pivot column of row $i$.\n",
    "4. Add multiples of row $i$ to the rows below it in order to put zeros into the pivot column.\n",
    "5. Increment $i$ and return to step 2.\n",
    "::::\n",
    "\n",
    "At the end of the downward phase, the augmented matrix has a pretty simple form. However, it's not the cleanest form to work with theoretically, so we continue.\n",
    "\n",
    "(definition-linalg-phase2)=\n",
    "::::{proof:algorithm} Row elimination upward phase\n",
    "1. Set $i=m$ (the number of equations).\n",
    "2. Use multiples of row $i$ to put zeros above the leading 1 in that row.\n",
    "3. Decrement $i$. If $i> 1$, return to step 2.\n",
    "::::\n",
    "\n",
    "At the end of the upward phase, the matrix is in a form that we define formally here.\n",
    "\n",
    "```{index} ! RRE form (reduced row-echelon form), ! pivot column, ! free column\n",
    "```\n",
    "\n",
    "(definition-linalg-RREF)=\n",
    "::::{proof:definition} RRE form\n",
    "\n",
    "A matrix is in **RRE form** (reduced row-echelon form) if it meets all of these requirements:\n",
    "\n",
    "1. Any rows of all zeros appear below all nonzero rows.\n",
    "2. The leading nonzero of any row is a one.\n",
    "3. Every leading 1 that is lower than another leading 1 is also to the right of it.\n",
    "4. Every leading 1 is the only nonzero in its column.\n",
    "\n",
    "The columns that have leading ones are called **pivot columns**. The other columns are called **free columns**.\n",
    "::::\n",
    "\n",
    "There are two things that make RRE form useful. One is that it makes a unique target we can always reach.\n",
    "\n",
    "(theorem-RREF-unique)=\n",
    "::::{proof:theorem} \n",
    "Every matrix is equivalent to a unique matrix in RRE form.\n",
    "::::\n",
    "\n",
    "The other useful fact is that RRE form completely exposes what everything we want to know about a linear system. In a sense, everything else we will do with matrices comes back to the RRE form.\n",
    "\n",
    "## Example\n",
    "\n",
    "Here is an example of reduction to RRE form for a linear system \n",
    "\n",
    "$$\n",
    "\\bfA = \\begin{bmatrix}\n",
    "2 & 0 & 4 & 3 \\\\ -2 & 0 & 2 & -13 \\\\ -4 & 5 & -7 & -10 \\\\ 1 & 15 & 2 & -4.5\n",
    "\\end{bmatrix}, \\qquad \n",
    "\\bfb = \\begin{bmatrix}\n",
    "4\\\\40\\\\9\\\\29\n",
    "\\end{bmatrix}.\n",
    "$$"
   ]
  },
  {
   "cell_type": "code",
   "execution_count": 1,
   "id": "offensive-bernard",
   "metadata": {},
   "outputs": [
    {
     "data": {
      "text/plain": [
       "4×5 Matrix{Float64}:\n",
       "  2.0   0.0   4.0    3.0   4.0\n",
       " -2.0   0.0   2.0  -13.0  40.0\n",
       " -4.0   5.0  -7.0  -10.0   9.0\n",
       "  1.0  15.0   2.0   -4.5  29.0"
      ]
     },
     "execution_count": 1,
     "metadata": {},
     "output_type": "execute_result"
    }
   ],
   "source": [
    "A = [\n",
    "     2    0    4    3 \n",
    "    -2    0    2  -13\n",
    "    -4    5   -7  -10 \n",
    "     1   15    2   -4.5\n",
    "    ];\n",
    "b = [ 4, 40, 9, 29 ];\n",
    "\n",
    "S = [A b]"
   ]
  },
  {
   "cell_type": "markdown",
   "id": "fluid-chocolate",
   "metadata": {},
   "source": [
    "We start at the top, working downward and rightward. In the first row, the leading nonzero occurs in column 1, which is the pivot column for this row. We normalize this row so that the leading nonzero is a 1."
   ]
  },
  {
   "cell_type": "code",
   "execution_count": 2,
   "id": "infrared-understanding",
   "metadata": {},
   "outputs": [
    {
     "data": {
      "text/plain": [
       "4×5 Matrix{Float64}:\n",
       "  1.0   0.0   2.0    1.5   2.0\n",
       " -2.0   0.0   2.0  -13.0  40.0\n",
       " -4.0   5.0  -7.0  -10.0   9.0\n",
       "  1.0  15.0   2.0   -4.5  29.0"
      ]
     },
     "execution_count": 2,
     "metadata": {},
     "output_type": "execute_result"
    }
   ],
   "source": [
    "S[1,:] = S[1,:]/S[1,1]\n",
    "S"
   ]
  },
  {
   "cell_type": "markdown",
   "id": "dental-blackjack",
   "metadata": {},
   "source": [
    "Now multiples of row 1 are added to the rows below it in order to put zeros in the first column."
   ]
  },
  {
   "cell_type": "code",
   "execution_count": 3,
   "id": "failing-definition",
   "metadata": {},
   "outputs": [
    {
     "data": {
      "text/plain": [
       "4×5 Matrix{Float64}:\n",
       " 1.0   0.0  2.0    1.5   2.0\n",
       " 0.0   0.0  6.0  -10.0  44.0\n",
       " 0.0   5.0  1.0   -4.0  17.0\n",
       " 0.0  15.0  0.0   -6.0  27.0"
      ]
     },
     "execution_count": 3,
     "metadata": {},
     "output_type": "execute_result"
    }
   ],
   "source": [
    "S[2,:] = S[2,:] - S[2,1]*S[1,:]\n",
    "S[3,:] = S[3,:] - S[3,1]*S[1,:]\n",
    "S[4,:] = S[4,:] - S[4,1]*S[1,:]\n",
    "S"
   ]
  },
  {
   "cell_type": "markdown",
   "id": "loose-opening",
   "metadata": {},
   "source": [
    "Looking at rows 2 to 4, we see that the leftmost nonzero occurs in column 2. Since row 2 has a zero there, we swap rows 2 and 3 to bring a nonzero up."
   ]
  },
  {
   "cell_type": "code",
   "execution_count": 4,
   "id": "aggressive-snapshot",
   "metadata": {},
   "outputs": [
    {
     "data": {
      "text/plain": [
       "4×5 Matrix{Float64}:\n",
       " 1.0   0.0  2.0    1.5   2.0\n",
       " 0.0   5.0  1.0   -4.0  17.0\n",
       " 0.0   0.0  6.0  -10.0  44.0\n",
       " 0.0  15.0  0.0   -6.0  27.0"
      ]
     },
     "execution_count": 4,
     "metadata": {},
     "output_type": "execute_result"
    }
   ],
   "source": [
    "S[2:3,:] = S[[3,2],:]\n",
    "S"
   ]
  },
  {
   "cell_type": "markdown",
   "id": "technical-university",
   "metadata": {},
   "source": [
    "Now we normalize row 2 so that the leading nonzero is a 1."
   ]
  },
  {
   "cell_type": "code",
   "execution_count": 5,
   "id": "earlier-sense",
   "metadata": {},
   "outputs": [
    {
     "data": {
      "text/plain": [
       "4×5 Matrix{Float64}:\n",
       " 1.0   0.0  2.0    1.5   2.0\n",
       " 0.0   1.0  0.2   -0.8   3.4\n",
       " 0.0   0.0  6.0  -10.0  44.0\n",
       " 0.0  15.0  0.0   -6.0  27.0"
      ]
     },
     "execution_count": 5,
     "metadata": {},
     "output_type": "execute_result"
    }
   ],
   "source": [
    "S[2,:] = S[2,:]/S[2,2]\n",
    "S"
   ]
  },
  {
   "cell_type": "markdown",
   "id": "under-briefing",
   "metadata": {},
   "source": [
    "Multiples of row 2 are now used to put zeros below it in the pivot column."
   ]
  },
  {
   "cell_type": "code",
   "execution_count": 6,
   "id": "chief-register",
   "metadata": {},
   "outputs": [
    {
     "data": {
      "text/plain": [
       "4×5 Matrix{Float64}:\n",
       " 1.0  0.0   2.0    1.5    2.0\n",
       " 0.0  1.0   0.2   -0.8    3.4\n",
       " 0.0  0.0   6.0  -10.0   44.0\n",
       " 0.0  0.0  -3.0    6.0  -24.0"
      ]
     },
     "execution_count": 6,
     "metadata": {},
     "output_type": "execute_result"
    }
   ],
   "source": [
    "S[3,:] = S[3,:] - S[3,2]*S[2,:]\n",
    "S[4,:] = S[4,:] - S[4,2]*S[2,:]\n",
    "S"
   ]
  },
  {
   "cell_type": "markdown",
   "id": "deadly-signal",
   "metadata": {},
   "source": [
    "Rows 3 and 4 have a pivot in column 3, and we only need to normalize row 3 to make it 1. Then we subtract a multiple of row 3 from row 4 to put a zero beneath it."
   ]
  },
  {
   "cell_type": "code",
   "execution_count": 7,
   "id": "saved-italian",
   "metadata": {},
   "outputs": [
    {
     "data": {
      "text/plain": [
       "4×5 Matrix{Float64}:\n",
       " 1.0  0.0  2.0   1.5       2.0\n",
       " 0.0  1.0  0.2  -0.8       3.4\n",
       " 0.0  0.0  1.0  -1.66667   7.33333\n",
       " 0.0  0.0  0.0   1.0      -2.0"
      ]
     },
     "execution_count": 7,
     "metadata": {},
     "output_type": "execute_result"
    }
   ],
   "source": [
    "S[3,:] = S[3,:]/S[3,3];\n",
    "S[4,:] = S[4,:] - S[4,3]*S[3,:]\n",
    "S"
   ]
  },
  {
   "cell_type": "markdown",
   "id": "sorted-diploma",
   "metadata": {},
   "source": [
    "We complete the downward phase by normalizing row 4 to get a leading 1."
   ]
  },
  {
   "cell_type": "code",
   "execution_count": 8,
   "id": "velvet-style",
   "metadata": {},
   "outputs": [
    {
     "data": {
      "text/plain": [
       "4×5 Matrix{Float64}:\n",
       " 1.0  0.0  2.0   1.5       2.0\n",
       " 0.0  1.0  0.2  -0.8       3.4\n",
       " 0.0  0.0  1.0  -1.66667   7.33333\n",
       " 0.0  0.0  0.0   1.0      -2.0"
      ]
     },
     "execution_count": 8,
     "metadata": {},
     "output_type": "execute_result"
    }
   ],
   "source": [
    "S[4,:] = S[4,:]/S[4,4]\n",
    "S"
   ]
  },
  {
   "cell_type": "markdown",
   "id": "underlying-fifteen",
   "metadata": {},
   "source": [
    "Now we turn around for the upward phase. The leading 1 in row 4 needs to have zeros above it. We accomplish that by subtracting multiples of row 4 from the others."
   ]
  },
  {
   "cell_type": "code",
   "execution_count": 9,
   "id": "alert-disability",
   "metadata": {},
   "outputs": [
    {
     "data": {
      "text/plain": [
       "4×5 Matrix{Float64}:\n",
       " 1.0  0.0  2.0  0.0   5.0\n",
       " 0.0  1.0  0.2  0.0   1.8\n",
       " 0.0  0.0  1.0  0.0   4.0\n",
       " 0.0  0.0  0.0  1.0  -2.0"
      ]
     },
     "execution_count": 9,
     "metadata": {},
     "output_type": "execute_result"
    }
   ],
   "source": [
    "S[3,:] = S[3,:] - S[3,4]*S[4,:]\n",
    "S[2,:] = S[2,:] - S[2,4]*S[4,:]\n",
    "S[1,:] = S[1,:] - S[1,4]*S[4,:]\n",
    "S"
   ]
  },
  {
   "cell_type": "markdown",
   "id": "center-reminder",
   "metadata": {},
   "source": [
    "We move up to row 3 and use multiples of it to put zeros above its leading 1."
   ]
  },
  {
   "cell_type": "code",
   "execution_count": 10,
   "id": "human-uruguay",
   "metadata": {},
   "outputs": [
    {
     "data": {
      "text/plain": [
       "4×5 Matrix{Float64}:\n",
       " 1.0  0.0  0.0  0.0  -3.0\n",
       " 0.0  1.0  0.0  0.0   1.0\n",
       " 0.0  0.0  1.0  0.0   4.0\n",
       " 0.0  0.0  0.0  1.0  -2.0"
      ]
     },
     "execution_count": 10,
     "metadata": {},
     "output_type": "execute_result"
    }
   ],
   "source": [
    "S[2,:] = S[2,:] - S[2,3]*S[3,:]\n",
    "S[1,:] = S[1,:] - S[1,3]*S[3,:]\n",
    "S"
   ]
  },
  {
   "cell_type": "markdown",
   "id": "exotic-handy",
   "metadata": {},
   "source": [
    "The last move is to use a multiple of row 2 to put a zero above its leading 1. As it has played out in this example, this line of code changes nothing because the position was already zero."
   ]
  },
  {
   "cell_type": "code",
   "execution_count": 11,
   "id": "wicked-maryland",
   "metadata": {},
   "outputs": [
    {
     "data": {
      "text/plain": [
       "4×5 Matrix{Float64}:\n",
       " 1.0  0.0  0.0  0.0  -3.0\n",
       " 0.0  1.0  0.0  0.0   1.0\n",
       " 0.0  0.0  1.0  0.0   4.0\n",
       " 0.0  0.0  0.0  1.0  -2.0"
      ]
     },
     "execution_count": 11,
     "metadata": {},
     "output_type": "execute_result"
    }
   ],
   "source": [
    "S[1,:] = S[1,:] - S[1,2]*S[2,:]\n",
    "S"
   ]
  },
  {
   "cell_type": "markdown",
   "id": "confident-continuity",
   "metadata": {},
   "source": [
    "This matrix is in RREF. We interpret it as the trivial linear system\n",
    "\n",
    "\\begin{align*}\n",
    "x_1 &= -3,\\\\ x_2 &= 1,\\\\ x_3 &= 4, \\\\ x_4 &= -2.\n",
    "\\end{align*}\n",
    "\n",
    "```{warning}\n",
    "You can [use Wolfram Alpha](\"https://www.wolframalpha.com/input/?i=rref%20%7B%7B1%2C2%2C3%7D%2C%7B4%2C5%2C6%7D%2C%7B7%2C8%2C9%7D%7D\") for finding the RRE form of a matrix.\n",
    "```\n",
    "\n",
    "## Solution from the RRE form\n",
    "\n",
    "The RRE form of an augmented matrix represents a linear system that we can solve by inspection:\n",
    "\n",
    "1. Ignore all zero rows.\n",
    "2. If a leading one occurs in the last column, the system is inconsistent.\n",
    "3. Otherwise, each variable associated with a free column is assigned to a free parameter (e.g., $s$, $t$, etc.).\n",
    "4. Use the pivot columns to solve for their corresponding variables in terms of the free parameters.\n",
    "\n",
    "(example-RREF-multiple)=\n",
    "::::{proof:example}\n",
    "A linear system has an augmented matrix equivalent to the RRE form\n",
    "\n",
    "$$\n",
    "\\begin{bmatrix}\n",
    "0 & 1 & -3 & 0 & 2 \\\\\n",
    "0 & 0 & 0  & 1 & -4 \\\\\n",
    "0 & 0 & 0  & 0 & 0  \\\\\n",
    "0 & 0 & 0  & 0 & 0  \n",
    "\\end{bmatrix}.\n",
    "$$\n",
    "\n",
    "Find all solutions to the linear system.\n",
    "\n",
    ":::{dropdown} Solution\n",
    "The last two rows have no information and can be ignored. Columns 2 and 4 are pivot columns. We give variables from the other columns arbitrary values, $x_1=s$ and $x_3=t$. The pivot variables are solved in terms of these to get $x_2=2+3t$ and $x_4=-4$. All solutions are expressed as the vector\n",
    "\n",
    "$$\n",
    "\\bfx = \\begin{bmatrix}\n",
    "s \\\\ 2+3t \\\\ t \\\\ -4\n",
    "\\end{bmatrix}, \\qquad s,t\\in \\real.\n",
    "$$\n",
    ":::\n",
    "::::\n",
    "\n",
    "::::{proof:example}\n",
    "A linear system has an augmented matrix equivalent to the RRE form\n",
    "\n",
    "$$\n",
    "\\begin{bmatrix}\n",
    "1 & 0 & -4 & 0 & 0 \\\\\n",
    "0 & 1 & 1  & 0 & 0 \\\\\n",
    "0 & 0 & 0  & 1 & 0  \\\\\n",
    "0 & 0 & 0  & 0 & 1\n",
    "\\end{bmatrix}.\n",
    "$$\n",
    "\n",
    "Find all solutions to the linear system.\n",
    "\n",
    ":::{dropdown} Solution\n",
    "Look at the last row of the system. It expresses the equation $0=1$, which is impossible to satisfy. Thus the system is inconsistent.\n",
    ":::\n",
    "::::\n",
    "\n",
    "## Rank\n",
    "\n",
    "Leaving aside the actual calculation of solutions, a glance at the RRE form tells us at a glance whether the system has no solution, a unique solution, or infinitely many solutions. Because of the requirements on leading ones in the matrix, the outcomes are constrained just by how many of them there are.\n",
    "\n",
    "```{index} ! rank of a matrix\n",
    "```\n",
    "\n",
    "(definition-RREF-rank)=\n",
    "::::{proof:definition} Rank\n",
    "The **rank** of a matrix is the number of pivot columns in its RRE form, i. e., the number of leading ones.\n",
    "::::\n",
    "\n",
    "(theorem-RREF-rank)=\n",
    "::::{proof:theorem} \n",
    "If $\\bfA$ is an $m\\times n$ matrix, then $\\rank(\\bfA) \\le m$ and $\\rank(\\bfA) \\le n$.\n",
    "::::\n",
    ":::{proof:proof}\n",
    "Each leading one in the RRE form requires a row and column of its own.\n",
    ":::\n",
    "\n",
    "(theorem-RREF-deficient)=\n",
    "::::{proof:theorem} \n",
    "Suppose $\\bfA$ is $m\\times n$. If $\\rank(\\bfA)<n$, then the linear system $\\bfA\\bfx=\\bfb$ cannot have a unique solution. It is inconsistent for some choices of $\\bfb$ and has infinitely many solutions for some choices of $\\bfb$.\n",
    "::::\n",
    ":::{proof:proof}\n",
    "Let $r=\\rank(\\bfA)$. Then the RRE form of $\\bfA$ has is all zero in rows $r+1$ to $m$. Now augment $\\bfA$ with $\\bfb$ and perform the row operations that reduce $\\bfA$ to RRE form. If there are any nonzeros in rows $r+1$ to $m$ of the last column, the system is inconsistent. Otherwise, the system has at least one free variable. We can start with either type of outcome and run the row elimination process backward to find a $\\bfb$ that led to it.\n",
    ":::\n",
    "\n",
    "(corollary-RREF-nonunique)=\n",
    "::::{proof:corollary} \n",
    "A linear system with more variables than equations cannot have a unique solution.\n",
    "::::\n",
    ":::{proof:proof}\n",
    "$\\rank(\\bfA) \\le m < n$.\n",
    "::"
   ]
  }
 ],
 "metadata": {
  "jupytext": {
   "cell_metadata_filter": "-all",
   "formats": "md:myst",
   "text_representation": {
    "extension": ".md",
    "format_name": "myst",
    "format_version": 0.13,
    "jupytext_version": "1.10.3"
   }
  },
  "kernelspec": {
   "display_name": "Julia 1.6.1",
   "language": "julia",
   "name": "julia-1.6"
  },
  "language_info": {
   "file_extension": ".jl",
   "mimetype": "application/julia",
   "name": "julia",
   "version": "1.6.2"
  },
  "source_map": [
   14,
   77,
   87,
   91,
   94,
   98,
   103,
   107,
   110,
   114,
   117,
   121,
   125,
   129,
   133,
   137,
   140,
   144,
   149,
   153,
   157,
   161,
   164
  ]
 },
 "nbformat": 4,
 "nbformat_minor": 5
}