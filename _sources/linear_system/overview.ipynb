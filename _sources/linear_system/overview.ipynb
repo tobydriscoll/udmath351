{
 "cells": [
  {
   "cell_type": "markdown",
   "id": "8dce0dbb",
   "metadata": {},
   "source": [
    "# Linear systems\n",
    "\n",
    "When you first learned algebra, the focus was on solving equations. The simplest equations are those that depend linearly on the unknowns. We'll be learning how to do this in a systematic fashion that covers all the possibilities for any number of equations and unknowns."
   ]
  }
 ],
 "metadata": {
  "jupytext": {
   "cell_metadata_filter": "-all",
   "formats": "md:myst",
   "text_representation": {
    "extension": ".md",
    "format_name": "myst",
    "format_version": 0.13,
    "jupytext_version": "1.10.3"
   }
  },
  "kernelspec": {
   "display_name": "Julia 1.6.1",
   "language": "julia",
   "name": "julia-1.6"
  },
  "language_info": {
   "file_extension": ".jl",
   "mimetype": "application/julia",
   "name": "julia",
   "version": "1.6.2"
  },
  "source_map": [
   14
  ]
 },
 "nbformat": 4,
 "nbformat_minor": 5
}