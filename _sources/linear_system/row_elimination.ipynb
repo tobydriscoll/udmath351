{
 "cells": [
  {
   "cell_type": "markdown",
   "id": "3f1d5605",
   "metadata": {},
   "source": [
    "# Row elimination\n",
    "\n",
    "You've probably solved small systems of equations by substitution. In order to solve systems with more equations and variables, we systematize the idea as an *elimination* process. The goal of elimination is to transform the system to an equivalent one whose solution(s) we can deduce easily. There are three \"legal moves\" at our disposal.\n",
    "\n",
    "(definition-row_elimination-operations)=\n",
    "::::{proof:definition} Row operations\n",
    "1. Swap the positions of two equations.\n",
    "2. Multiply an equation by a nonzero constant.\n",
    "3. Add a multiple of one equation to another equation.\n",
    "::::\n",
    "\n",
    "All of the row operations are reversible. Therefore, solutions of the system remain unchanged after a row operation.\n",
    "\n",
    "(example-gauss-elimination)=\n",
    "::::{proof:example}\n",
    "Use elimination to solve the $3\\times 3$ system\n",
    "\n",
    "\\begin{align*}\n",
    "x_1 - x_2  - x_3 & = 2, \\\\\n",
    "3x_1 - 2x_2 & = 9, \\\\\n",
    "x_1 - 2x_2 - x_3 & = 5.\n",
    "\\end{align*}\n",
    "\n",
    ":::{dropdown} Solution\n",
    "\n",
    "The first step is to use the first equation to eliminate $x_1$ from the second and third equations. We therefore add $-3$ times equation 1 to equation 2, and $-1$ times equation 1 to equation 3:\n",
    "\n",
    "\\begin{align*}\n",
    " x_1 - x_2  - x_3  & = 2, \\\\\n",
    "(3x_1 - 2x_2) - 3(x_1 - x_2  - x_3) & = 9 - 3(2),\\\\\n",
    "(x_1 - 2x_2 - x_3) - 1(x_1 - x_2  - x_3) & = 5 - 1(2) .\n",
    "\\end{align*}\n",
    "\n",
    "This takes us to\n",
    "\\begin{align*}\n",
    " x_1 - x_2  - x_3  & = 2,  \\\\\n",
    "x_2 + 3x_3 &= 3, \\\\\n",
    "-x_2 &= 3.\n",
    "\\end{align*}\n",
    "\n",
    "It's tempting to grab that last equation and use it to remove $x_2$ from everything else. That certainly works out here. But we are aiming for a fully automatic system that works every time, so we will act as though the last equation still might contain $x_3$ and is not so trivial.\n",
    "\n",
    "The next step of the recipe is to leave the first equation alone, and use the second to eliminate $x_2$ from all the others below it.\n",
    "\n",
    "\\begin{align*}\n",
    " x_1 - x_2  - x_3  & = 2, \\\\\n",
    "x_2 + 3x_3 & = 3, \\\\\n",
    "(-x_2) + (x_2+3x_3)  & = 3 + 3.\n",
    "\\end{align*}\n",
    "\n",
    "We now have a system in **triangular** form,\n",
    "\n",
    "\\begin{align*}\n",
    " x_1 - x_2  - x_3  & = 2, \\\\\n",
    "x_2 + 3x_3 & = 3, \\\\\n",
    "3x_3  & = 6.\n",
    "\\end{align*}\n",
    "\n",
    "We can now deduce that $x_3=2$ from the last equation. Moving up to the second equation, we then find that $x_2=3-3(2)=-3$. Finally, the first equation yields $x_1=2+(-3)+(2)=1$.\n",
    ":::\n",
    "::::\n",
    "\n",
    "```{index} ! Gaussian elimination\n",
    "```\n",
    "\n",
    "The process in {numref}`Example {number} <example-gauss-elimination>` leading to triangular system is commonly known as **Gaussian elimination**. (It's a misnomer, as the process was known at least in China thousands of years before Gauss, but never mind.) Finding the solution from the triangular form is called **backward substitution**.\n",
    "\n",
    "## Gauss-Jordan elimination\n",
    "\n",
    "An alternative to backward substitution is to transform the triangular system into something even simpler.\n",
    "\n",
    "(example-gauss-jordan)=\n",
    "::::{proof:example} \n",
    "\n",
    "We continue from the end of {numref}`Example {number} <example-gauss-elimination>`.  Having reached the last variable and equation, we turn around and eliminate *upwards* instead:\n",
    "\n",
    "\\begin{align*}\n",
    "(x_1 - x_2 - x_3) + \\frac{1}{3}(3x_3) & = 2  +\\frac{1}{3}(6), \\\\\n",
    "(x_2 + 3x_3) - (3x_3) & = 3 - (6),\\\\\n",
    "3x_3  & = 6.\n",
    "\\end{align*}\n",
    "\n",
    "This leaves the system as\n",
    "\\begin{align*}\n",
    " x_1  -x_2 & = 4,\\\\\n",
    "x_2 & = -3,\\\\\n",
    "3x_3  & = 6.\n",
    "\\end{align*}\n",
    "\n",
    "Moving upwards to the second equation, and use it to eliminate within the one above it:\n",
    "\n",
    "\\begin{align*}\n",
    "(x_1 - x_2 ) + (x_2) & = 4  + (-3),\\\\\n",
    "x_2 & = -3,\\\\\n",
    "3x_3  & = 6. \n",
    "\\end{align*}\n",
    "\n",
    "The system is now trivial: $x_1=1$, $x_2=-3$, and $x_3=2$.\n",
    "::::\n",
    "\n",
    "```{index} ! Gauss–Jordan elimination\n",
    "```\n",
    "\n",
    "The process above is called **Gauss–Jordan elimination**, or more simply, **row elimination**. \n",
    "\n",
    "## Matrix form\n",
    "\n",
    "```{index} ! augmented matrix\n",
    "```\n",
    "\n",
    "Before fully generalizing the elimination process, we will lighten the notational load by using matrices. We start with the $m\\times (n+1)$ **augmented matrix** $\\mathbf{G} = [\\bfA\\:\\bfb]$ that contains all the equation coefficients and right-side values. \n",
    "\n",
    "Let's look at elimination in this form for the system\n",
    "\n",
    "$$\n",
    "x_1 - x_2 - x_3 &= 2, \\\\ \n",
    "3x_1-2x_2 &= 9, \\\\ \n",
    "x_1-2x_2-x_3 &= 5. \n",
    "$$\n",
    "\n",
    "This system has the augmented matrix\n",
    "\n",
    "$$\n",
    "\\mathbf{G} = \n",
    "\\begin{bmatrix}\n",
    "1 & -1 & -1 & 2 \\\\\n",
    "3 & -2 & 0 & 9 \\\\\n",
    "1 & -2 & -1 & 5\n",
    "\\end{bmatrix}.\n",
    "$$\n",
    "\n",
    "To ease the arithmetic, we do the elimination in Julia."
   ]
  },
  {
   "cell_type": "code",
   "execution_count": 1,
   "id": "9cde784d",
   "metadata": {},
   "outputs": [
    {
     "data": {
      "text/plain": [
       "3×4 Matrix{Rational{Int64}}:\n",
       " 1//1  -1//1  -1//1  2//1\n",
       " 3//1  -2//1   0//1  9//1\n",
       " 1//1  -2//1  -1//1  5//1"
      ]
     },
     "execution_count": 1,
     "metadata": {},
     "output_type": "execute_result"
    }
   ],
   "source": [
    "G = Rational.([1 -1 -1 2; 3 -2 0 9; 1 -2 -1 5])"
   ]
  },
  {
   "cell_type": "markdown",
   "id": "b7b73095",
   "metadata": {},
   "source": [
    "The first elimination step uses multiples of the first row to eliminate below it."
   ]
  },
  {
   "cell_type": "code",
   "execution_count": 2,
   "id": "7fdeb5ec",
   "metadata": {},
   "outputs": [
    {
     "data": {
      "text/plain": [
       "3×4 Matrix{Rational{Int64}}:\n",
       " 1//1  -1//1  -1//1  2//1\n",
       " 0//1   1//1   3//1  3//1\n",
       " 1//1  -2//1  -1//1  5//1"
      ]
     },
     "execution_count": 2,
     "metadata": {},
     "output_type": "execute_result"
    }
   ],
   "source": [
    "G[2,:] = G[2,:] - 3*G[1,:]\n",
    "G"
   ]
  },
  {
   "cell_type": "code",
   "execution_count": 3,
   "id": "a53fe79d",
   "metadata": {},
   "outputs": [
    {
     "data": {
      "text/plain": [
       "3×4 Matrix{Rational{Int64}}:\n",
       " 1//1  -1//1  -1//1  2//1\n",
       " 0//1   1//1   3//1  3//1\n",
       " 0//1  -1//1   0//1  3//1"
      ]
     },
     "execution_count": 3,
     "metadata": {},
     "output_type": "execute_result"
    }
   ],
   "source": [
    "G[3,:] = G[3,:] - 1*G[1,:]\n",
    "G"
   ]
  },
  {
   "cell_type": "markdown",
   "id": "fca97aaf",
   "metadata": {},
   "source": [
    "Next we use the second row to eliminate below it."
   ]
  },
  {
   "cell_type": "code",
   "execution_count": 4,
   "id": "3bfcfa6c",
   "metadata": {},
   "outputs": [
    {
     "data": {
      "text/plain": [
       "3×4 Matrix{Rational{Int64}}:\n",
       " 1//1  -1//1  -1//1  2//1\n",
       " 0//1   1//1   3//1  3//1\n",
       " 0//1   0//1   3//1  6//1"
      ]
     },
     "execution_count": 4,
     "metadata": {},
     "output_type": "execute_result"
    }
   ],
   "source": [
    "G[3,:] -= (-1)*G[2,:]\n",
    "G"
   ]
  },
  {
   "cell_type": "markdown",
   "id": "91292943",
   "metadata": {},
   "source": [
    "Having reached the last row, we turn around and use it to eliminate above it in column 3."
   ]
  },
  {
   "cell_type": "code",
   "execution_count": 5,
   "id": "486396a0",
   "metadata": {},
   "outputs": [
    {
     "data": {
      "text/plain": [
       "3×4 Matrix{Rational{Int64}}:\n",
       " 1//1  -1//1  -1//1   2//1\n",
       " 0//1   1//1   0//1  -3//1\n",
       " 0//1   0//1   3//1   6//1"
      ]
     },
     "execution_count": 5,
     "metadata": {},
     "output_type": "execute_result"
    }
   ],
   "source": [
    "G[2,:] -= 1*G[3,:]\n",
    "G"
   ]
  },
  {
   "cell_type": "code",
   "execution_count": 6,
   "id": "a0f5a1dc",
   "metadata": {},
   "outputs": [
    {
     "data": {
      "text/plain": [
       "3×4 Matrix{Rational{Int64}}:\n",
       " 1//1  -1//1  0//1   4//1\n",
       " 0//1   1//1  0//1  -3//1\n",
       " 0//1   0//1  3//1   6//1"
      ]
     },
     "execution_count": 6,
     "metadata": {},
     "output_type": "execute_result"
    }
   ],
   "source": [
    "G[1,:] -= (-1/3)*G[3,:]\n",
    "G"
   ]
  },
  {
   "cell_type": "markdown",
   "id": "6e803cc7",
   "metadata": {},
   "source": [
    "We move up to the second row and eliminate above that in column 2."
   ]
  },
  {
   "cell_type": "code",
   "execution_count": 7,
   "id": "3d1ff32f",
   "metadata": {},
   "outputs": [
    {
     "data": {
      "text/plain": [
       "3×4 Matrix{Rational{Int64}}:\n",
       " 1//1  0//1  0//1   1//1\n",
       " 0//1  1//1  0//1  -3//1\n",
       " 0//1  0//1  3//1   6//1"
      ]
     },
     "execution_count": 7,
     "metadata": {},
     "output_type": "execute_result"
    }
   ],
   "source": [
    "G[1,:] -= (-1)*G[2,:]\n",
    "G"
   ]
  },
  {
   "cell_type": "markdown",
   "id": "5eea019c",
   "metadata": {},
   "source": [
    "Finally, to be super pedantic, we normalize the last row by its leading nonzero."
   ]
  },
  {
   "cell_type": "code",
   "execution_count": 8,
   "id": "d34fb301",
   "metadata": {},
   "outputs": [
    {
     "data": {
      "text/plain": [
       "3×4 Matrix{Rational{Int64}}:\n",
       " 1//1  0//1  0//1   1//1\n",
       " 0//1  1//1  0//1  -3//1\n",
       " 0//1  0//1  1//1   2//1"
      ]
     },
     "execution_count": 8,
     "metadata": {},
     "output_type": "execute_result"
    }
   ],
   "source": [
    "G[3,:] = G[3,:]/G[3,3]\n",
    "G"
   ]
  },
  {
   "cell_type": "markdown",
   "id": "886a5e18",
   "metadata": {},
   "source": [
    "The result is the augmented matrix of the system\n",
    "\n",
    "$$\n",
    "\\begin{matrix}\n",
    "x_1 & & &= &1 \\\\\n",
    "& x_2 & &= &-3 \\\\\n",
    "& & x_3 &= &2,\n",
    "\\end{matrix}\n",
    "$$\n",
    "\n",
    "whose solution is obvious.\n",
    "\n",
    "Here's an example that works out differently, starting from the augmented matrix\n",
    "\n",
    "$$\n",
    "\\begin{bmatrix}\n",
    "1 & 1 & -1 & 4 \\\\\n",
    "1 & 2 & 2 & 3 \\\\\n",
    "2 & 1 & -5 & 9\n",
    "\\end{bmatrix}.\n",
    "$$\n",
    "\n",
    "First, we use multiples of the first row to eliminate in the first column below it."
   ]
  },
  {
   "cell_type": "code",
   "execution_count": 9,
   "id": "1704b741",
   "metadata": {},
   "outputs": [
    {
     "data": {
      "text/plain": [
       "3×4 Matrix{Int64}:\n",
       " 1   1  -1   4\n",
       " 0   1   3  -1\n",
       " 0  -1  -3   1"
      ]
     },
     "execution_count": 9,
     "metadata": {},
     "output_type": "execute_result"
    }
   ],
   "source": [
    "G = [ 1 1 -1 4; 1 2 2 3; 2 1 -5 9]\n",
    "G[2,:] = G[2,:] - 1*G[1,:]\n",
    "G[3,:] = G[3,:] - 2*G[1,:]\n",
    "G"
   ]
  },
  {
   "cell_type": "markdown",
   "id": "74f4399b",
   "metadata": {},
   "source": [
    "Now use a multiple of the second row to put a zero underneath it in column 2."
   ]
  },
  {
   "cell_type": "code",
   "execution_count": 10,
   "id": "a466b5f5",
   "metadata": {},
   "outputs": [
    {
     "data": {
      "text/plain": [
       "3×4 Matrix{Int64}:\n",
       " 1  1  -1   4\n",
       " 0  1   3  -1\n",
       " 0  0   0   0"
      ]
     },
     "execution_count": 10,
     "metadata": {},
     "output_type": "execute_result"
    }
   ],
   "source": [
    "G[3,:] -= (-1)*G[2,:]\n",
    "G"
   ]
  },
  {
   "cell_type": "markdown",
   "id": "b4a73ae5",
   "metadata": {},
   "source": [
    "We have reached the last row, and it's time to turn around and eliminate upwards. But because the last row is entirely zero, it can't make changes to the rows above it. So we skip that and move up to the second row, eliminating upwards in the second column."
   ]
  },
  {
   "cell_type": "code",
   "execution_count": 11,
   "id": "e192a01b",
   "metadata": {},
   "outputs": [
    {
     "data": {
      "text/plain": [
       "3×4 Matrix{Int64}:\n",
       " 1  0  -4   5\n",
       " 0  1   3  -1\n",
       " 0  0   0   0"
      ]
     },
     "execution_count": 11,
     "metadata": {},
     "output_type": "execute_result"
    }
   ],
   "source": [
    "G[1,:] -= 1*G[2,:]\n",
    "G"
   ]
  },
  {
   "cell_type": "markdown",
   "id": "bddd8548",
   "metadata": {},
   "source": [
    "This is as simple as we can get things. The last row is telling us the astounding fact that $0=0$—i.e., nothing at all. The other two rows imply\n",
    "\n",
    "\\begin{align*}\n",
    "x_1 &= 5 + 4x_3, \\\\\n",
    "x_2 &= -1 - 3x_3.\n",
    "\\end{align*}\n",
    "\n",
    "Since the third row gave us no information, we take the attitude that $x_3$ is unrestricted. That is,\n",
    "\n",
    "\\begin{align*}\n",
    "x_1 &= 5 + 4s, \\\\\n",
    "x_2 &= -1 - 3s, \\\\\n",
    "x_3 &= s.\n",
    "\\end{align*}\n",
    "\n",
    "is a solution for any value of $s$, and we have an infinite family of solutions."
   ]
  }
 ],
 "metadata": {
  "jupytext": {
   "cell_metadata_filter": "-all",
   "formats": "md:myst",
   "text_representation": {
    "extension": ".md",
    "format_name": "myst",
    "format_version": 0.13,
    "jupytext_version": "1.10.3"
   }
  },
  "kernelspec": {
   "display_name": "Julia 1.6.1",
   "language": "julia",
   "name": "julia-1.6"
  },
  "language_info": {
   "file_extension": ".jl",
   "mimetype": "application/julia",
   "name": "julia",
   "version": "1.6.2"
  },
  "source_map": [
   14,
   149,
   151,
   155,
   160,
   163,
   167,
   170,
   174,
   179,
   182,
   186,
   189,
   193,
   196,
   222,
   227,
   231,
   234,
   238,
   241
  ]
 },
 "nbformat": 4,
 "nbformat_minor": 5
}