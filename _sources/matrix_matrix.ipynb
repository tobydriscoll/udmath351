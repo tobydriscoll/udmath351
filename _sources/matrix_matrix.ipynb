{
 "cells": [
  {
   "cell_type": "markdown",
   "id": "presidential-smile",
   "metadata": {},
   "source": [
    "# Matrix multiplication\n",
    "\n",
    "We can think of vectors as a special kind of matrix, and accordingly we can generalize matrix-vector products to matrix-matrix products. There are many equivalent ways to define these products. Here is the one we start with.\n",
    "\n",
    "````{proof:definition} Matrix times matrix\n",
    "If $\\bfA$ is $m\\times n$ and $\\bfB$ is $n\\times p$, then the product $\\bfA\\bfB$ is defined as\n",
    "\n",
    "```{math}\n",
    ":label: matrix-mult\n",
    "\\bfA\\mathbf{B} =\n",
    "\\bfA \\begin{bmatrix}\n",
    "\\mathbf{b}_1 & \\mathbf{b}_2 & \\cdots & \\mathbf{b}_p\n",
    "\\end{bmatrix}\n",
    "= \\begin{bmatrix}\n",
    "\\bfA\\mathbf{b}_1 & \\bfA\\mathbf{b}_2 & \\cdots & \\bfA\\mathbf{b}_p.\n",
    "\\end{bmatrix}\n",
    "```\n",
    "````\n",
    "\n",
    "In words, a matrix-matrix product is the horizontal concatenation of matrix-vector products involving the columns of the right-hand matrix.\n",
    "\n",
    "```{warning}\n",
    "In order to define $\\bfA\\bfB$, we require that the number of columns in $\\bfA$ is the same as the number of rows in $\\bfB$. That is, the *inner dimensions* must agree. The result has size determined by the *outer dimensions* of the original matrices.\n",
    "```\n",
    "\n",
    "When we compute a matrix product by hand, we usually don't write out the above. Instead we use a more compact definition for the individual entries of $\\mathbf{C} = \\bfA\\bfB$,\n",
    "\n",
    "```{math}\n",
    ":label: matrix-mult-element\n",
    "C_{ij} = \\sum_{k=1}^n a_{ik}b_{kj}, \\qquad i=1,\\ldots,m, \\quad j=1,\\ldots,p.\n",
    "```\n",
    "\n",
    "The sum to get a single $C_{ij}$ is what we called a \"zip\", or essentially a dot product, of row $i$ from $\\bfA$ with column $j$ from $\\bfB$.\n",
    "\n",
    "::::{admonition} Example\n",
    ":class: tip\n",
    "\n",
    "Find $\\mathbf{A}\\mathbf{B}$ if\n",
    "\n",
    "```{math}\n",
    "\\bfA = \\begin{bmatrix}\n",
    "1 & -1 \\\\ 0 & 2 \\\\ -3 & 1\n",
    "\\end{bmatrix}, \\qquad\n",
    "\\mathbf{B} = \\begin{bmatrix}\n",
    "2 & -1 & 0 & 4 \\\\ 1 & 1 & 3 & 2\n",
    "\\end{bmatrix}.\n",
    "```\n",
    "\n",
    ":::{dropdown} Solution\n",
    "\n",
    "Using {eq}`matrix-mult-element`,\n",
    "\n",
    "\\begin{align*}\n",
    "\\bfA\\mathbf{B} &= \\begin{bmatrix}\n",
    "(1)(2) + (-1)(1) & (1)(-1) + (-1)(1) & (1)(0) + (-1)(3) & (1)(4) + (-1)(2) \\\\\n",
    "(0)(2) + (2)(1) & (0)(-1) + (2)(1) & (0)(0) + (2)(3) & (0)(4) + (2)(2) \\\\\n",
    "(-3)(2) + (1)(1) & (-3)(-1) + (1)(1) & (-3)(0) + (1)(3) & (-3)(4) + (1)(2)\n",
    "\\end{bmatrix} \\\\\n",
    "& = \\begin{bmatrix}\n",
    "1 & -2 & -3 & 2 \\\\ 2 & 2 & 6 & 4 \\\\ -5 & 4 & 3 & -10\n",
    "\\end{bmatrix}\n",
    "\\end{align*}.\n",
    "\n",
    "Observe that\n",
    "\n",
    "```{math}\n",
    "\\bfA \\begin{bmatrix} 2 \\\\ 1 \\end{bmatrix} = 2 \\begin{bmatrix} 1 \\\\ 0 \\\\ -3\n",
    "\\end{bmatrix} + 1 \\begin{bmatrix} -1 \\\\ 2 \\\\ 1 \\end{bmatrix}\n",
    "= \\begin{bmatrix} 1 \\\\ 2 \\\\ -5 \\end{bmatrix},\n",
    "```\n",
    "\n",
    "and so on.\n",
    ":::\n",
    "::::\n",
    "\n",
    "MATLAB interprets the `*` operator to mean multiplication in the sense of matrices."
   ]
  },
  {
   "cell_type": "code",
   "execution_count": null,
   "id": "canadian-immune",
   "metadata": {},
   "outputs": [],
   "source": [
    "A = [ 1 -1; 0 2; -3 1 ]\n",
    "B = [ 2 -1 0 4; 1 1 3 2 ]\n",
    "\n",
    "A*B\n",
    "\n",
    "dot(A[3,:],B[:,1])"
   ]
  },
  {
   "cell_type": "markdown",
   "id": "hourly-charleston",
   "metadata": {},
   "source": [
    "When the sizes are not compatible, an error is thrown."
   ]
  },
  {
   "cell_type": "code",
   "execution_count": null,
   "id": "desperate-offense",
   "metadata": {
    "tags": [
     "raises-exception"
    ]
   },
   "outputs": [],
   "source": [
    "A = [ 1 -1; 0 2 ]        # 2x2\n",
    "B = [ 2 -1; 1 1; 4 0 ]   # 3x2\n",
    "\n",
    "A*B"
   ]
  },
  {
   "cell_type": "markdown",
   "id": "hazardous-shopper",
   "metadata": {},
   "source": [
    "## Properties\n",
    "\n",
    "First, the bad news. We sort of knew this was coming, from matrix-vector multiplication.\n",
    "\n",
    "```{warning}\n",
    "Matrix multiplication is not commutative. If $\\bfA\\bfB$ is defined, then $\\bfB\\bfA$ may not be, and even if it is, it may not equal $\\bfA\\bfB$. Put another way, you cannot simply change the order of the terms in a matrix product without some explicit justification.\n",
    "```\n",
    "\n",
    "Fortunately, other familiar and handy properties of multiplication do come along for the ride:\n",
    "\n",
    "1. $(\\bfA\\bfB)\\mathbf{C}=\\bfA(\\bfB \\mathbf{C})\\qquad$  (association)\n",
    "2. $\\bfA(\\bfB+\\mathbf{C}) = \\bfA\\bfB + \\bfA\\mathbf{C}\\qquad$  (right distribution)\n",
    "3. $(\\bfA+\\bfB)\\mathbf{C} = \\bfA\\mathbf{C} + \\bfB\\mathbf{C}\\qquad$   (left distribution)\n",
    "\n",
    "These properties are easy to demonstrate (but not prove!) in MATLAB."
   ]
  },
  {
   "cell_type": "code",
   "execution_count": null,
   "id": "norman-neighbor",
   "metadata": {},
   "outputs": [],
   "source": [
    "A = [ 1 -1; 0 2; -3 1 ]\n",
    "B = [ 2 -1 0 4; 1 1 3 2 ]\n",
    "C = [ 1 -1 2; 2 2 0; 5 -2 -3; 4 -1 -1 ];"
   ]
  },
  {
   "cell_type": "code",
   "execution_count": null,
   "id": "academic-wheat",
   "metadata": {},
   "outputs": [],
   "source": [
    "(A*B)*C - A*(B*C)    # always zero in exact artithmetic"
   ]
  },
  {
   "cell_type": "code",
   "execution_count": null,
   "id": "british-fetish",
   "metadata": {},
   "outputs": [],
   "source": [
    "# some random choices\n",
    "A = round(10*rand(4,4))\n",
    "B = round(10*rand(4,4))\n",
    "C = round(10*rand(4,4))\n",
    "\n",
    "ident1 = ( A*(B+C) ) - ( A*B + A*C )    # should be ≈ zero\n",
    "\n",
    "ident2 = ( (A+B)*C ) - ( A*C + B*C )    # should be ≈ zero"
   ]
  }
 ],
 "metadata": {
  "jupytext": {
   "cell_metadata_filter": "-all",
   "formats": "md:myst",
   "text_representation": {
    "extension": ".md",
    "format_name": "myst",
    "format_version": 0.13,
    "jupytext_version": "1.10.3"
   }
  },
  "kernelspec": {
   "display_name": "Julia 1.6.1",
   "language": "julia",
   "name": "julia-1.6"
  },
  "source_map": [
   14,
   93,
   100,
   104,
   112,
   130,
   136,
   140
  ]
 },
 "nbformat": 4,
 "nbformat_minor": 5
}