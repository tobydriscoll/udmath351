{
 "cells": [
  {
   "cell_type": "code",
   "execution_count": null,
   "id": "manufactured-portugal",
   "metadata": {
    "tags": [
     "remove-cell"
    ]
   },
   "outputs": [],
   "source": [
    "using Plots,DifferentialEquations,LaTeXStrings\n",
    "default(label=\"\",dpi=400,linewidth=2,size=(560,350))"
   ]
  },
  {
   "cell_type": "markdown",
   "id": "charming-surveillance",
   "metadata": {},
   "source": [
    "# Qualitative methods\n",
    "\n",
    "Exact solutions of ODEs are few and far-between. There are a number of tools that can be used to gain insight about an ODE without knowing or producing a solution. These are grouped together under the name of **qualitative methods**.\n",
    "\n",
    "## Direction field\n",
    "\n",
    "In the scalar equation $x'=f(t,x)$, $f$ gives the slope of any solution at any point in the $(t,x)$ plane. Hence, while it is usually not trivial to draw curves for the solutions, it is straightforward to draw the instantaneous slopes of them. Here is a basic Julia function for it.\n",
    "\n",
    ":::{code-cell}\n",
    ":tags: [\"remove-output\",\"hide-input\"]\n",
    "function dirfield(f,tlims,xlims)\n",
    "\n",
    "    t = range([0,2]...,length=18)\n",
    "    x = range([0,1.6]...,length=18)\n",
    "    T = vec([t for t in t, x in x])\n",
    "    X = vec([x for t in t, x in x])\n",
    "    F = f.(T,X)\n",
    "\n",
    "    scale = 12sum( @. sqrt(F^2+1) ) / length(F)\n",
    "    quiver( T,X,quiver=(ones(size(F))/scale,F/scale) ) \n",
    "\n",
    "end\n",
    ":::\n",
    "\n",
    "For instance, the *logistic equation* $x'=ax-bx^2$ can be visualized for $a=3$, $b=2$ via"
   ]
  },
  {
   "cell_type": "code",
   "execution_count": null,
   "id": "changing-pickup",
   "metadata": {},
   "outputs": [],
   "source": [
    "f = t,x -> 3x-2x^2\n",
    "dirfield(f,[0,2],[0,1.6])\n",
    "title!(\"Direction field of 3x-2x²\")"
   ]
  },
  {
   "cell_type": "markdown",
   "id": "african-fossil",
   "metadata": {},
   "source": [
    "```{index} autonomous equation\n",
    "```\n",
    "\n",
    "Since this equation is autonomous, the picture above is the same along every vertical line. \n",
    "\n",
    "Here is a direction field for $x'=t-x^2$. Note that the arrows are horizontal along the sideways parabola $t=x^2$, because that is where the slope is zero."
   ]
  },
  {
   "cell_type": "code",
   "execution_count": null,
   "id": "veterinary-torture",
   "metadata": {},
   "outputs": [],
   "source": [
    "f (t,x) = t-x^2\n",
    "dirfield(f,[-1,2],[-2,2])\n",
    "title!(\"Direction field of t-x²\")"
   ]
  },
  {
   "cell_type": "markdown",
   "id": "improving-commercial",
   "metadata": {},
   "source": [
    "## Autonomous scalar problems\n",
    "\n",
    "An autonomous first-order ODE is of the form $x'=f(x)$. The term means that the problem doesn't depend on any external factors; it is entirely self-contained.\n",
    "\n",
    ":::{index} steady state\n",
    ":::\n",
    ":::{index} equilibrium\n",
    ":::\n",
    "\n",
    "A value $\\hat{x}$ that satisfies $f(\\hat{x})=0$ clearly makes the constant function $x(t)\\equiv \\hat{x}$ a solution. \n",
    "\n",
    ":::{proof:definition} Steady state / Equilibrium\n",
    "For the autonomous ODE $x'=f(x)$, any value $\\hat{x}$ that is a root of $f$ is called a **steady state**,  **equilibrium value**, **fixed point**, or **critical point**. \n",
    ":::\n",
    "\n",
    ":::{index} stability\n",
    ":::\n",
    "\n",
    "One of the most important characteristics of each steady state is its **stability**. Let $x(t,X)$ be the solution of the initial-value problem\n",
    "\n",
    "$$\n",
    "\\frac{d x}{d t}=f(x), \\quad x(0)=X.\n",
    "$$\n",
    "\n",
    "::::{proof:definition} Asymptotic stability\n",
    "The steady state $\\hat{x}$ is said to be **asymptotically stable** if there is a positive number $\\delta$ such that \n",
    "\n",
    "$$\n",
    "\\lim_{t\\to\\infty} x(t,X) = \\hat{x}\n",
    "$$\n",
    "\n",
    "whenever $|X-\\hat{x}|< \\delta$. \n",
    "::::\n",
    "\n",
    "In words, asymptotic stability means that if you start close enough to $\\hat{x}$, then you end up there as $t \\to \\infty$. There is a weaker form of the property that is a bit more difficult to parse.\n",
    "\n",
    "::::{proof:definition} Stability\n",
    "The steady state $\\hat{x}$ is said to be {term}`stable` if, for any $\\epsilon>0$, you can ensure that $|x(t,X)-\\hat{x}|<\\epsilon$ for all time whenever $|X-\\hat{x}|<\\delta$, where $\\delta$ depends on $\\epsilon$. If there is no such way to choose $\\delta$, then $\\hat{x}$ is **unstable**.\n",
    "::::\n",
    "\n",
    ":::{index} phase line diagram\n",
    ":::\n",
    "One tool for discriminating between stable and unstable equilibria is a **phase diagram**. \n",
    "\n",
    "::::{proof:example} \n",
    "\n",
    "Consider the ODE $x'=x-x^3$. We will start by graphing $f(x)=x-x^3$.\n",
    "\n",
    "![PL diagram 1](pldiag1.svg)\n",
    "\n",
    "The equilibrium solutions occur at the crossings of the $x$-axis in the plot, where $dx/dt=0$. \n",
    "\n",
    "![PL diagram 2](pldiag2.svg)\n",
    "\n",
    "Now we highlight those parts of the plot where the graph is above the $x$-axis, i.e., where $dx/dt > 0$. \n",
    "\n",
    "![PL diagram 3](pldiag3.svg)\n",
    "\n",
    "Imagine that the solution is represented by a point $x(t)$ sliding along the $x$-axis. Under the highlighted regions, this point has to be sliding rightward, because $x'>0$ there.\n",
    "\n",
    "![PL diagram 4](pldiag4.svg)\n",
    "\n",
    "Similarly, on the remaining segments of the $x$-axis, the solution must be sliding leftward. \n",
    "\n",
    "![PL diagram 5](pldiag5.svg)\n",
    "\n",
    "Graphically it is now clear that the steady states at $x=\\pm 1$ are stable, while the one at $x=0$ is unstable.\n",
    "::::\n",
    "\n",
    "A simple analytical test for stability is:\n",
    "\n",
    "- If $f'(\\hat{x})<0$, then $\\hat{x}$ is asymptotically stable.\n",
    "- If $f'(\\hat{x})>0$, then $\\hat{x}$ is unstable.\n",
    "\n",
    "As you might surmise, the case $f'(\\hat{x})=0$ is ambiguous, and another analysis is needed to reveal the stability."
   ]
  }
 ],
 "metadata": {
  "jupytext": {
   "cell_metadata_filter": "-all",
   "formats": "md:myst",
   "text_representation": {
    "extension": ".md",
    "format_name": "myst",
    "format_version": 0.13,
    "jupytext_version": "1.10.3"
   }
  },
  "kernelspec": {
   "display_name": "Julia 1.6.1",
   "language": "julia",
   "name": "julia-1.6"
  },
  "source_map": [
   16,
   22,
   50,
   54,
   63,
   67
  ]
 },
 "nbformat": 4,
 "nbformat_minor": 5
}