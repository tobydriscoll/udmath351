{
 "cells": [
  {
   "cell_type": "markdown",
   "id": "reasonable-petroleum",
   "metadata": {},
   "source": [
    "# Matrix multiplication\n",
    "\n",
    "We can think of vectors as a special kind of matrix, and accordingly we can generalize matrix-vector products to matrix-matrix products. There are many equivalent ways to define these products. Here is the one we start with.\n",
    "\n",
    "````{proof:definition} Matrix times matrix\n",
    "If $\\bfA$ is $m\\times n$ and $\\bfB$ is $n\\times p$, then the product $\\bfA\\bfB$ is defined as\n",
    "\n",
    "```{math}\n",
    ":label: matrix-mult\n",
    "\\bfA\\mathbf{B} =\n",
    "\\bfA \\begin{bmatrix}\n",
    "\\mathbf{b}_1 & \\mathbf{b}_2 & \\cdots & \\mathbf{b}_p\n",
    "\\end{bmatrix}\n",
    "= \\begin{bmatrix}\n",
    "\\bfA\\mathbf{b}_1 & \\bfA\\mathbf{b}_2 & \\cdots & \\bfA\\mathbf{b}_p.\n",
    "\\end{bmatrix}\n",
    "```\n",
    "````\n",
    "\n",
    "In words, a matrix-matrix product is the horizontal concatenation of matrix-vector products involving the columns of the right-hand matrix.\n",
    "\n",
    "```{warning}\n",
    "In order to define $\\bfA\\bfB$, we require that the number of columns in $\\bfA$ is the same as the number of rows in $\\bfB$. That is, the *inner dimensions* must agree. The result has size determined by the *outer dimensions* of the original matrices.\n",
    "```\n",
    "\n",
    "When we compute a matrix product by hand, we usually don't write out the above. Instead we use a more compact definition for the individual entries of $\\mathbf{C} = \\bfA\\bfB$,\n",
    "\n",
    "```{math}\n",
    ":label: matrix-mult-element\n",
    "C_{ij} = \\sum_{k=1}^n a_{ik}b_{kj}, \\qquad i=1,\\ldots,m, \\quad j=1,\\ldots,p.\n",
    "```\n",
    "\n",
    "The sum to get a single $C_{ij}$ is what we called a \"zip\", or essentially a dot product, of row $i$ from $\\bfA$ with column $j$ from $\\bfB$.\n",
    "\n",
    "::::{proof:example}\n",
    "\n",
    "Find $\\mathbf{A}\\mathbf{B}$ if\n",
    "\n",
    "```{math}\n",
    "\\bfA = \\begin{bmatrix}\n",
    "1 & -1 \\\\ 0 & 2 \\\\ -3 & 1\n",
    "\\end{bmatrix}, \\qquad\n",
    "\\mathbf{B} = \\begin{bmatrix}\n",
    "2 & -1 & 0 & 4 \\\\ 1 & 1 & 3 & 2\n",
    "\\end{bmatrix}.\n",
    "```\n",
    "\n",
    ":::{dropdown} Solution\n",
    "\n",
    "Using {eq}`matrix-mult-element`,\n",
    "\n",
    "\\begin{align*}\n",
    "\\bfA\\mathbf{B} &= \\begin{bmatrix}\n",
    "(1)(2) + (-1)(1) & (1)(-1) + (-1)(1) & (1)(0) + (-1)(3) & (1)(4) + (-1)(2) \\\\\n",
    "(0)(2) + (2)(1) & (0)(-1) + (2)(1) & (0)(0) + (2)(3) & (0)(4) + (2)(2) \\\\\n",
    "(-3)(2) + (1)(1) & (-3)(-1) + (1)(1) & (-3)(0) + (1)(3) & (-3)(4) + (1)(2)\n",
    "\\end{bmatrix} \\\\\n",
    "& = \\begin{bmatrix}\n",
    "1 & -2 & -3 & 2 \\\\ 2 & 2 & 6 & 4 \\\\ -5 & 4 & 3 & -10\n",
    "\\end{bmatrix}\n",
    "\\end{align*}.\n",
    "\n",
    "Observe that\n",
    "\n",
    "```{math}\n",
    "\\bfA \\begin{bmatrix} 2 \\\\ 1 \\end{bmatrix} = 2 \\begin{bmatrix} 1 \\\\ 0 \\\\ -3\n",
    "\\end{bmatrix} + 1 \\begin{bmatrix} -1 \\\\ 2 \\\\ 1 \\end{bmatrix}\n",
    "= \\begin{bmatrix} 1 \\\\ 2 \\\\ -5 \\end{bmatrix},\n",
    "```\n",
    "\n",
    "and so on.\n",
    ":::\n",
    "::::\n",
    "\n",
    "MATLAB interprets the `*` operator to mean multiplication in the sense of matrices."
   ]
  },
  {
   "cell_type": "code",
   "execution_count": 1,
   "id": "sporting-boston",
   "metadata": {},
   "outputs": [
    {
     "data": {
      "text/plain": [
       "-5"
      ]
     },
     "execution_count": 1,
     "metadata": {},
     "output_type": "execute_result"
    }
   ],
   "source": [
    "A = [ 1 -1; 0 2; -3 1 ]\n",
    "B = [ 2 -1 0 4; 1 1 3 2 ]\n",
    "\n",
    "A*B\n",
    "\n",
    "using LinearAlgebra\n",
    "dot(A[3,:],B[:,1])"
   ]
  },
  {
   "cell_type": "markdown",
   "id": "technical-confusion",
   "metadata": {},
   "source": [
    "When the sizes are not compatible, an error is thrown."
   ]
  },
  {
   "cell_type": "code",
   "execution_count": 2,
   "id": "furnished-collectible",
   "metadata": {
    "tags": [
     "raises-exception"
    ]
   },
   "outputs": [
    {
     "ename": "LoadError",
     "evalue": "DimensionMismatch(\"matrix A has dimensions (2,2), matrix B has dimensions (3,2)\")",
     "output_type": "error",
     "traceback": [
      "DimensionMismatch(\"matrix A has dimensions (2,2), matrix B has dimensions (3,2)\")",
      "",
      "Stacktrace:",
      " [1] _generic_matmatmul!(C::Matrix{Int64}, tA::Char, tB::Char, A::Matrix{Int64}, B::Matrix{Int64}, _add::LinearAlgebra.MulAddMul{true, true, Bool, Bool})",
      "   @ LinearAlgebra /Users/julia/buildbot/worker/package_macos64/build/usr/share/julia/stdlib/v1.6/LinearAlgebra/src/matmul.jl:814",
      " [2] generic_matmatmul!(C::Matrix{Int64}, tA::Char, tB::Char, A::Matrix{Int64}, B::Matrix{Int64}, _add::LinearAlgebra.MulAddMul{true, true, Bool, Bool})",
      "   @ LinearAlgebra /Users/julia/buildbot/worker/package_macos64/build/usr/share/julia/stdlib/v1.6/LinearAlgebra/src/matmul.jl:802",
      " [3] mul!",
      "   @ /Users/julia/buildbot/worker/package_macos64/build/usr/share/julia/stdlib/v1.6/LinearAlgebra/src/matmul.jl:302 [inlined]",
      " [4] mul!",
      "   @ /Users/julia/buildbot/worker/package_macos64/build/usr/share/julia/stdlib/v1.6/LinearAlgebra/src/matmul.jl:275 [inlined]",
      " [5] *(A::Matrix{Int64}, B::Matrix{Int64})",
      "   @ LinearAlgebra /Users/julia/buildbot/worker/package_macos64/build/usr/share/julia/stdlib/v1.6/LinearAlgebra/src/matmul.jl:153",
      " [6] top-level scope",
      "   @ In[2]:4",
      " [7] eval",
      "   @ ./boot.jl:360 [inlined]",
      " [8] include_string(mapexpr::typeof(REPL.softscope), mod::Module, code::String, filename::String)",
      "   @ Base ./loading.jl:1116"
     ]
    }
   ],
   "source": [
    "A = [ 1 -1; 0 2 ]        # 2x2\n",
    "B = [ 2 -1; 1 1; 4 0 ]   # 3x2\n",
    "\n",
    "A*B"
   ]
  },
  {
   "cell_type": "markdown",
   "id": "liable-fields",
   "metadata": {},
   "source": [
    "## Properties\n",
    "\n",
    "First, the bad news. We sort of knew this was coming, from matrix-vector multiplication.\n",
    "\n",
    "```{warning}\n",
    "Matrix multiplication is not commutative. If $\\bfA\\bfB$ is defined, then $\\bfB\\bfA$ may not be, and even if it is, it may not equal $\\bfA\\bfB$. Put another way, you cannot simply change the order of the terms in a matrix product without some explicit justification.\n",
    "```\n",
    "\n",
    "Fortunately, other familiar and handy properties of multiplication do come along for the ride:\n",
    "\n",
    "1. $(\\bfA\\bfB)\\mathbf{C}=\\bfA(\\bfB \\mathbf{C})\\qquad$  (association)\n",
    "2. $\\bfA(\\bfB+\\mathbf{C}) = \\bfA\\bfB + \\bfA\\mathbf{C}\\qquad$  (right distribution)\n",
    "3. $(\\bfA+\\bfB)\\mathbf{C} = \\bfA\\mathbf{C} + \\bfB\\mathbf{C}\\qquad$   (left distribution)\n",
    "\n",
    "These properties are easy to demonstrate (but not prove!) in MATLAB."
   ]
  },
  {
   "cell_type": "code",
   "execution_count": 3,
   "id": "extraordinary-error",
   "metadata": {},
   "outputs": [],
   "source": [
    "A = [ 1 -1; 0 2; -3 1 ]\n",
    "B = [ 2 -1 0 4; 1 1 3 2 ]\n",
    "C = [ 1 -1 2; 2 2 0; 5 -2 -3; 4 -1 -1 ];"
   ]
  },
  {
   "cell_type": "code",
   "execution_count": 4,
   "id": "temporal-indie",
   "metadata": {},
   "outputs": [
    {
     "data": {
      "text/plain": [
       "3×3 Matrix{Int64}:\n",
       " 0  0  0\n",
       " 0  0  0\n",
       " 0  0  0"
      ]
     },
     "execution_count": 4,
     "metadata": {},
     "output_type": "execute_result"
    }
   ],
   "source": [
    "(A*B)*C - A*(B*C)    # always zero in exact artithmetic"
   ]
  },
  {
   "cell_type": "code",
   "execution_count": 5,
   "id": "prescribed-colon",
   "metadata": {},
   "outputs": [
    {
     "data": {
      "text/plain": [
       "4×4 Matrix{Int64}:\n",
       " 0  0  0  0\n",
       " 0  0  0  0\n",
       " 0  0  0  0\n",
       " 0  0  0  0"
      ]
     },
     "execution_count": 5,
     "metadata": {},
     "output_type": "execute_result"
    }
   ],
   "source": [
    "# some random choices\n",
    "A = rand(1:10,4,4)\n",
    "B = rand(1:10,4,4)\n",
    "C = rand(1:10,4,4)\n",
    "\n",
    "ident1 = ( A*(B+C) ) - ( A*B + A*C )    # should be ≈ zero"
   ]
  },
  {
   "cell_type": "code",
   "execution_count": 6,
   "id": "noted-antibody",
   "metadata": {},
   "outputs": [
    {
     "data": {
      "text/plain": [
       "4×4 Matrix{Int64}:\n",
       " 0  0  0  0\n",
       " 0  0  0  0\n",
       " 0  0  0  0\n",
       " 0  0  0  0"
      ]
     },
     "execution_count": 6,
     "metadata": {},
     "output_type": "execute_result"
    }
   ],
   "source": [
    "ident2 = ( (A+B)*C ) - ( A*C + B*C )    # should be ≈ zero"
   ]
  }
 ],
 "metadata": {
  "jupytext": {
   "cell_metadata_filter": "-all",
   "formats": "md:myst",
   "text_representation": {
    "extension": ".md",
    "format_name": "myst",
    "format_version": 0.13,
    "jupytext_version": "1.10.3"
   }
  },
  "kernelspec": {
   "display_name": "Julia 1.6.1",
   "language": "julia",
   "name": "julia-1.6"
  },
  "language_info": {
   "file_extension": ".jl",
   "mimetype": "application/julia",
   "name": "julia",
   "version": "1.6.2"
  },
  "source_map": [
   14,
   92,
   100,
   104,
   111,
   129,
   135,
   139,
   148
  ]
 },
 "nbformat": 4,
 "nbformat_minor": 5
}