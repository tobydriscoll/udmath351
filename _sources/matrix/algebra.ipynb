{
 "cells": [
  {
   "cell_type": "markdown",
   "id": "guided-accused",
   "metadata": {},
   "source": [
    "## Properties\n",
    "\n",
    "First, the bad news. \n",
    "\n",
    "```{warning}\n",
    "Matrix multiplication is not commutative. If $\\bfA\\bfB$ is defined, then $\\bfB\\bfA$ may not be, and even if it is, it may not equal $\\bfA\\bfB$. Put another way, you cannot simply change the order of the terms in a matrix product without some explicit justification.\n",
    "```\n",
    "\n",
    "Fortunately, other familiar and handy properties of multiplication do come along for the ride:\n",
    "\n",
    "1. $(\\bfA\\bfB)\\mathbf{C}=\\bfA(\\bfB \\mathbf{C})\\qquad$  (association)\n",
    "2. $\\bfA(\\bfB+\\mathbf{C}) = \\bfA\\bfB + \\bfA\\mathbf{C}\\qquad$  (right distribution)\n",
    "3. $(\\bfA+\\bfB)\\mathbf{C} = \\bfA\\mathbf{C} + \\bfB\\mathbf{C}\\qquad$   (left distribution)\n",
    "\n",
    "These properties are easy to demonstrate (but not prove!) computationally."
   ]
  },
  {
   "cell_type": "code",
   "execution_count": 1,
   "id": "european-journey",
   "metadata": {},
   "outputs": [],
   "source": [
    "A = [ 1 -1; 0 2; -3 1 ]\n",
    "B = [ 2 -1 0 4; 1 1 3 2 ]\n",
    "C = [ 1 -1 2; 2 2 0; 5 -2 -3; 4 -1 -1 ];"
   ]
  },
  {
   "cell_type": "code",
   "execution_count": 2,
   "id": "integral-aberdeen",
   "metadata": {},
   "outputs": [
    {
     "data": {
      "text/plain": [
       "3×3 Matrix{Int64}:\n",
       " 0  0  0\n",
       " 0  0  0\n",
       " 0  0  0"
      ]
     },
     "execution_count": 2,
     "metadata": {},
     "output_type": "execute_result"
    }
   ],
   "source": [
    "(A*B)*C - A*(B*C)    # always zero in exact artithmetic"
   ]
  },
  {
   "cell_type": "code",
   "execution_count": 3,
   "id": "secondary-comedy",
   "metadata": {},
   "outputs": [
    {
     "data": {
      "text/plain": [
       "4×4 Matrix{Int64}:\n",
       " 0  0  0  0\n",
       " 0  0  0  0\n",
       " 0  0  0  0\n",
       " 0  0  0  0"
      ]
     },
     "execution_count": 3,
     "metadata": {},
     "output_type": "execute_result"
    }
   ],
   "source": [
    "# some random choices\n",
    "A = rand(1:10,4,4)\n",
    "B = rand(1:10,4,4)\n",
    "C = rand(1:10,4,4)\n",
    "\n",
    "ident1 = ( A*(B+C) ) - ( A*B + A*C )    # should be ≈ zero"
   ]
  },
  {
   "cell_type": "code",
   "execution_count": 4,
   "id": "civic-count",
   "metadata": {},
   "outputs": [
    {
     "data": {
      "text/plain": [
       "4×4 Matrix{Int64}:\n",
       " 0  0  0  0\n",
       " 0  0  0  0\n",
       " 0  0  0  0\n",
       " 0  0  0  0"
      ]
     },
     "execution_count": 4,
     "metadata": {},
     "output_type": "execute_result"
    }
   ],
   "source": [
    "ident2 = ( (A+B)*C ) - ( A*C + B*C )    # should be ≈ zero"
   ]
  },
  {
   "cell_type": "markdown",
   "id": "initial-payroll",
   "metadata": {},
   "source": [
    "## Transpose\n",
    "\n",
    "Here's a curious operation that we won't be using much, but it is important enough to know about.\n",
    "\n",
    "```{index} ! transpose of a matrix\n",
    "```\n",
    "\n",
    "(definition-algebra-transpose)=\n",
    "::::{proof:definition} Transpose of a matrix\n",
    "The **transpose** of $m\\times n$ matrix $\\bfA$, whose elements are $A_{ij}$, is the $n\\times m$ matrix $\\bfA^T$ with elements $A_{ji}$.\n",
    "::::\n",
    "\n",
    "When taking the transpose, rows become columns, and vice versa.\n",
    "\n",
    "### Properties\n",
    "\n",
    "For the record:\n",
    "\n",
    "(theorem-algebra-transpose)=\n",
    "::::{proof:theorem} \n",
    "If $\\bfA$ and $\\bfB$ are matrices of compatible sizes, and $c$ is a number, then\n",
    "1. $(\\bfA^T)^T = \\bfA$\n",
    "2. $(\\bfA+\\bfB)^T = \\bfA^T + \\bfB^T$\n",
    "3. $(c\\bfA^T) = c(\\bfA^T)$\n",
    "4. $(\\bfA\\bfB)^T = \\bfB^T \\bfA^T$\n",
    "::::\n",
    "\n",
    "Only the last of these is not intuitively clear."
   ]
  }
 ],
 "metadata": {
  "jupytext": {
   "cell_metadata_filter": "-all",
   "formats": "md:myst",
   "text_representation": {
    "extension": ".md",
    "format_name": "myst",
    "format_version": 0.13,
    "jupytext_version": "1.10.3"
   }
  },
  "kernelspec": {
   "display_name": "Julia 1.6.1",
   "language": "julia",
   "name": "julia-1.6"
  },
  "language_info": {
   "file_extension": ".jl",
   "mimetype": "application/julia",
   "name": "julia",
   "version": "1.6.2"
  },
  "source_map": [
   14,
   33,
   39,
   43,
   52,
   54
  ]
 },
 "nbformat": 4,
 "nbformat_minor": 5
}