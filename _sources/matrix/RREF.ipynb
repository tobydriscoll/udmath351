{
 "cells": [
  {
   "cell_type": "markdown",
   "id": "accepted-holiday",
   "metadata": {},
   "source": [
    "# RREF\n",
    "\n",
    "It's time to get more formal and precise about row elimination. We separate it into downward and upward phases.  In what follows we use the term **leading nonzero** to mean the first (i.e., leftmost) entry of a row that is not zero.\n",
    "\n",
    "(definition-linalg-phase1)=\n",
    "\n",
    "````{proof:algorithm}  Row elimination downward phase\n",
    "1. Set $i=1$.\n",
    "2. Find the leftmost leading nonzero in rows $i$ and below. The column of this leading nonzero is known as the **pivot column**. If no such column exists, stop.\n",
    "3. As necessary, swap rows and/or multiply a row by a constant to put a 1 in the pivot column of row $i$.\n",
    "4. Add multiples of row $i$ to the rows below it in order to put zeros into the pivot column.\n",
    "5. Increment $i$ and return to step 2.\n",
    "````\n",
    "\n",
    "At the end of the downward phase, the augmented matrix has a pretty simple form. However, it's not the cleanest form to work with theoretically, so we continue.\n",
    "\n",
    "(definition-linalg-phase2)=\n",
    "\n",
    "````{proof:algorithm} Row elimination upward phase\n",
    "1. Set $i=m$ (the number of equations).\n",
    "2. Use multiples of row $i$ to put zeros above the leading 1 in that row.\n",
    "3. Decrement $i$. If $i> 1$, return to step 2.\n",
    "````\n",
    "\n",
    "At the end of the upward phase, the matrix is in a form that we define formally here.\n",
    "\n",
    "```{index}\n",
    "RREF (row reduced echelon form)\n",
    "```\n",
    "\n",
    "```{index}\n",
    "pivot column\n",
    "```\n",
    "\n",
    "```{index}\n",
    "free column\n",
    "```\n",
    "\n",
    "(definition-linalg-RREF)=\n",
    "\n",
    "````{proof:definition} RREF\n",
    "\n",
    "A matrix is in **RREF** (reduced row echelon form) if it meets all of these requirements:\n",
    "\n",
    "1. Any rows of all zeros appear below all nonzero rows.\n",
    "2. The leading nonzero of any row is a one.\n",
    "3. Every leading 1 that is lower than another leading 1 is also to the right of it.\n",
    "4. Every leading 1 is the only nonzero in its column.\n",
    "\n",
    "The columns that have leading ones are called **pivot columns`. The other columns are called {term}`free columns**.\n",
    "````\n",
    "\n",
    "Here is an example, using MATLAB to do the row operations for us. The linear system is characterized by\n",
    "\n",
    "$$\n",
    "\\bfA = \\begin{bmatrix}\n",
    "2 & 0 & 4 & 3 \\\\ -2 & 0 & 2 & -13 \\\\ -4 & 5 & -7 & -10 \\\\ 1 & 15 & 2 & -4.5\n",
    "\\end{bmatrix}, \\qquad \n",
    "\\bfb = \\begin{bmatrix}\n",
    "4\\\\40\\\\9\\\\29\n",
    "\\end{bmatrix}.\n",
    "$$"
   ]
  },
  {
   "cell_type": "code",
   "execution_count": 1,
   "id": "violent-being",
   "metadata": {},
   "outputs": [
    {
     "data": {
      "text/plain": [
       "4×5 Matrix{Float64}:\n",
       "  2.0   0.0   4.0    3.0   4.0\n",
       " -2.0   0.0   2.0  -13.0  40.0\n",
       " -4.0   5.0  -7.0  -10.0   9.0\n",
       "  1.0  15.0   2.0   -4.5  29.0"
      ]
     },
     "execution_count": 1,
     "metadata": {},
     "output_type": "execute_result"
    }
   ],
   "source": [
    "A = [\n",
    "     2    0    4    3 \n",
    "    -2    0    2  -13\n",
    "    -4    5   -7  -10 \n",
    "     1   15    2   -4.5\n",
    "    ];\n",
    "b = [ 4, 40, 9, 29 ];\n",
    "\n",
    "S = [A b]"
   ]
  },
  {
   "cell_type": "markdown",
   "id": "judicial-lincoln",
   "metadata": {},
   "source": [
    "We start at the top, working downward and rightward. In the first row, the leading nonzero occurs in column 1, which is the pivot column for this row. We normalize this row so that the leading nonzero is a 1."
   ]
  },
  {
   "cell_type": "code",
   "execution_count": 2,
   "id": "featured-strike",
   "metadata": {},
   "outputs": [
    {
     "data": {
      "text/plain": [
       "5-element Vector{Float64}:\n",
       " 1.0\n",
       " 0.0\n",
       " 2.0\n",
       " 1.5\n",
       " 2.0"
      ]
     },
     "execution_count": 2,
     "metadata": {},
     "output_type": "execute_result"
    }
   ],
   "source": [
    "S[1,:] = S[1,:]/S[1,1]"
   ]
  },
  {
   "cell_type": "markdown",
   "id": "applicable-washer",
   "metadata": {},
   "source": [
    "Now multiples of row 1 are added to the rows below it in order to put zeros in the first column."
   ]
  },
  {
   "cell_type": "code",
   "execution_count": 3,
   "id": "numeric-translation",
   "metadata": {},
   "outputs": [
    {
     "data": {
      "text/plain": [
       "5-element Vector{Float64}:\n",
       "  0.0\n",
       " 15.0\n",
       "  0.0\n",
       " -6.0\n",
       " 27.0"
      ]
     },
     "execution_count": 3,
     "metadata": {},
     "output_type": "execute_result"
    }
   ],
   "source": [
    "S[2,:] = S[2,:] - S[2,1]*S[1,:];\n",
    "S[3,:] = S[3,:] - S[3,1]*S[1,:];\n",
    "S[4,:] = S[4,:] - S[4,1]*S[1,:]"
   ]
  },
  {
   "cell_type": "markdown",
   "id": "nominated-classic",
   "metadata": {},
   "source": [
    "Looking at rows 2 to 4, we see that the leftmost nonzero occurs in column 2. Since row 2 has a zero there, we swap rows 2 and 3 to bring a nonzero up."
   ]
  },
  {
   "cell_type": "code",
   "execution_count": 4,
   "id": "better-internship",
   "metadata": {},
   "outputs": [
    {
     "data": {
      "text/plain": [
       "2×5 Matrix{Float64}:\n",
       " 0.0  5.0  1.0   -4.0  17.0\n",
       " 0.0  0.0  6.0  -10.0  44.0"
      ]
     },
     "execution_count": 4,
     "metadata": {},
     "output_type": "execute_result"
    }
   ],
   "source": [
    "S[2:3,:] = S[[3,2],:]"
   ]
  },
  {
   "cell_type": "markdown",
   "id": "plastic-concrete",
   "metadata": {},
   "source": [
    "Now we normalize row 2 so that the leading nonzero is a 1."
   ]
  },
  {
   "cell_type": "code",
   "execution_count": 5,
   "id": "adequate-article",
   "metadata": {},
   "outputs": [
    {
     "data": {
      "text/plain": [
       "5-element Vector{Float64}:\n",
       "  0.0\n",
       "  1.0\n",
       "  0.2\n",
       " -0.8\n",
       "  3.4"
      ]
     },
     "execution_count": 5,
     "metadata": {},
     "output_type": "execute_result"
    }
   ],
   "source": [
    "S[2,:] = S[2,:]/S[2,2]"
   ]
  },
  {
   "cell_type": "markdown",
   "id": "innovative-lover",
   "metadata": {},
   "source": [
    "Multiples of row 2 are now used to put zeros below it in the pivot column."
   ]
  },
  {
   "cell_type": "code",
   "execution_count": 6,
   "id": "thermal-nerve",
   "metadata": {},
   "outputs": [
    {
     "data": {
      "text/plain": [
       "5-element Vector{Float64}:\n",
       "   0.0\n",
       "   0.0\n",
       "  -3.0\n",
       "   6.0\n",
       " -24.0"
      ]
     },
     "execution_count": 6,
     "metadata": {},
     "output_type": "execute_result"
    }
   ],
   "source": [
    "S[3,:] = S[3,:] - S[3,2]*S[2,:];\n",
    "S[4,:] = S[4,:] - S[4,2]*S[2,:]"
   ]
  },
  {
   "cell_type": "markdown",
   "id": "standard-overhead",
   "metadata": {},
   "source": [
    "Rows 3 and 4 have a pivot in column 3, and we only need to normalize row 3 to make it 1. Then we subtract a multiple of row 3 from row 4 to put a zero beneath it."
   ]
  },
  {
   "cell_type": "code",
   "execution_count": 7,
   "id": "traditional-developer",
   "metadata": {},
   "outputs": [
    {
     "data": {
      "text/plain": [
       "5-element Vector{Float64}:\n",
       "  0.0\n",
       "  0.0\n",
       "  0.0\n",
       "  1.0\n",
       " -2.0"
      ]
     },
     "execution_count": 7,
     "metadata": {},
     "output_type": "execute_result"
    }
   ],
   "source": [
    "S[3,:] = S[3,:]/S[3,3];\n",
    "S[4,:] = S[4,:] - S[4,3]*S[3,:]"
   ]
  },
  {
   "cell_type": "markdown",
   "id": "polyphonic-salem",
   "metadata": {},
   "source": [
    "We complete the downward phase by normalizing row 4 to get a leading 1."
   ]
  },
  {
   "cell_type": "code",
   "execution_count": 8,
   "id": "internal-batman",
   "metadata": {},
   "outputs": [
    {
     "data": {
      "text/plain": [
       "5-element Vector{Float64}:\n",
       "  0.0\n",
       "  0.0\n",
       "  0.0\n",
       "  1.0\n",
       " -2.0"
      ]
     },
     "execution_count": 8,
     "metadata": {},
     "output_type": "execute_result"
    }
   ],
   "source": [
    "S[4,:] = S[4,:]/S[4,4]"
   ]
  },
  {
   "cell_type": "markdown",
   "id": "occupied-attempt",
   "metadata": {},
   "source": [
    "Now we turn around for the upward phase. The leading 1 in row 4 needs to have zeros above it. We accomplish that by subtracting multiples of row 4 from the others."
   ]
  },
  {
   "cell_type": "code",
   "execution_count": 9,
   "id": "exclusive-poverty",
   "metadata": {},
   "outputs": [
    {
     "data": {
      "text/plain": [
       "5-element Vector{Float64}:\n",
       " 1.0\n",
       " 0.0\n",
       " 2.0\n",
       " 0.0\n",
       " 5.0"
      ]
     },
     "execution_count": 9,
     "metadata": {},
     "output_type": "execute_result"
    }
   ],
   "source": [
    "S[3,:] = S[3,:] - S[3,4]*S[4,:];\n",
    "S[2,:] = S[2,:] - S[2,4]*S[4,:];\n",
    "S[1,:] = S[1,:] - S[1,4]*S[4,:]"
   ]
  },
  {
   "cell_type": "markdown",
   "id": "activated-contemporary",
   "metadata": {},
   "source": [
    "We move up to row 3 and use multiples of it to put zeros above its leading 1."
   ]
  },
  {
   "cell_type": "code",
   "execution_count": 10,
   "id": "interesting-florida",
   "metadata": {},
   "outputs": [
    {
     "data": {
      "text/plain": [
       "4×5 Matrix{Float64}:\n",
       " 1.0  0.0  0.0  0.0  -3.0\n",
       " 0.0  1.0  0.0  0.0   1.0\n",
       " 0.0  0.0  1.0  0.0   4.0\n",
       " 0.0  0.0  0.0  1.0  -2.0"
      ]
     },
     "execution_count": 10,
     "metadata": {},
     "output_type": "execute_result"
    }
   ],
   "source": [
    "S[2,:] = S[2,:] - S[2,3]*S[3,:];\n",
    "S[1,:] = S[1,:] - S[1,3]*S[3,:];\n",
    "S"
   ]
  },
  {
   "cell_type": "markdown",
   "id": "oriented-animal",
   "metadata": {},
   "source": [
    "The last move is to use a multiple of row 2 to put a zero above its leading 1. As it has played out in this example, this line of code changes nothing because the position was already zero."
   ]
  },
  {
   "cell_type": "code",
   "execution_count": 11,
   "id": "naughty-quantum",
   "metadata": {},
   "outputs": [],
   "source": [
    "S[1,:] = S[1,:] - S[1,2]*S[2,:];"
   ]
  },
  {
   "cell_type": "markdown",
   "id": "expected-cargo",
   "metadata": {},
   "source": [
    "This matrix is in RREF. We interpret it as the trivial linear system\n",
    "\n",
    "\\begin{align*}\n",
    "x_1 &= -3,\\\\ x_2 &= 1,\\\\ x_3 &= 4, \\\\ x_4 &= -2.\n",
    "\\end{align*}\n",
    "\n",
    "```{warning}\n",
    "MATLAB has a command `rref` to put a matrix in RREF. However, it's not ideal, because MATLAB uses floating point and cannot always produce exact zeros. You can instead [try Wolfram Alpha](\"https://www.wolframalpha.com/input/?i=rref%20%7B%7B1%2C2%2C3%7D%2C%7B4%2C5%2C6%7D%2C%7B7%2C8%2C9%7D%7D\") for finding the exact RREF.\n",
    "```\n",
    "\n",
    "## Solution from the RREF\n",
    "\n",
    "The RREF of an augmented matrix represents a linear system that we can solve by inspection:\n",
    "\n",
    "1. Ignore all zero rows.\n",
    "2. If a leading one occurs in the last column, the system is inconsistent.\n",
    "3. Otherwise, each variable associated with a free column is assigned to a free parameter (e.g., $s$, $t$, etc.).\n",
    "4. Use the pivot columns to solve for their corresponding variables in terms of the free parameters.\n",
    "\n",
    "::::{proof:example}\n",
    "A linear system has an augmented matrix equivalent to the RREF\n",
    "\n",
    "$$\n",
    "\\begin{bmatrix}\n",
    "0 & 1 & -3 & 0 & 2 \\\\\n",
    "0 & 0 & 0  & 1 & -4 \\\\\n",
    "0 & 0 & 0  & 0 & 0  \\\\\n",
    "0 & 0 & 0  & 0 & 0  \n",
    "\\end{bmatrix}.\n",
    "$$\n",
    "\n",
    "Find all solutions to the linear system.\n",
    "\n",
    ":::{dropdown} Solution\n",
    "The last two rows have no information and can be ignored. Columns 2 and 4 are pivot columns. We give variables from the other columns arbitrary values, $x_1=s$ and $x_3=t$. The pivot variables are solved in terms of these to get $x_2=2+3t$ and $x_4=-4$. All solutions are expressed as the vector\n",
    "\n",
    "$$\n",
    "\\bfx = \\begin{bmatrix}\n",
    "s \\\\ 2+3t \\\\ t \\\\ -4\n",
    "\\end{bmatrix}, \\qquad s,t\\in \\real.\n",
    "$$\n",
    ":::\n",
    "::::\n",
    "\n",
    "::::{proof:example}\n",
    "A linear system has an augmented matrix equivalent to the RREF\n",
    "\n",
    "$$\n",
    "\\begin{bmatrix}\n",
    "1 & 0 & -4 & 0 & 0 \\\\\n",
    "0 & 1 & 1  & 0 & 0 \\\\\n",
    "0 & 0 & 0  & 1 & 0  \\\\\n",
    "0 & 0 & 0  & 0 & 1\n",
    "\\end{bmatrix}.\n",
    "$$\n",
    "\n",
    "Find all solutions to the linear system.\n",
    "\n",
    ":::{dropdown} Solution\n",
    "Look at the last row of the system. It expresses the equation $0=1$, which is impossible to satisfy. Thus the system is inconsistent.\n",
    ":::\n",
    "::::\n",
    "\n",
    "There are only three possible outcomes for a linear system, all deducible from the RREF of the augmented matrix:\n",
    "\n",
    "1. There is a leading 1 in the last column, in which case there are no solutions.\n",
    "2. There are fewer pivot columns than variables, in which case there are infinitely many solutions.\n",
    "3. There is a unique solution."
   ]
  }
 ],
 "metadata": {
  "jupytext": {
   "cell_metadata_filter": "-all",
   "formats": "md:myst",
   "text_representation": {
    "extension": ".md",
    "format_name": "myst",
    "format_version": 0.13,
    "jupytext_version": "1.10.3"
   }
  },
  "kernelspec": {
   "display_name": "Julia 1.6.1",
   "language": "julia",
   "name": "julia-1.6"
  },
  "language_info": {
   "file_extension": ".jl",
   "mimetype": "application/julia",
   "name": "julia",
   "version": "1.6.2"
  },
  "source_map": [
   14,
   78,
   88,
   92,
   94,
   98,
   102,
   106,
   108,
   112,
   114,
   118,
   121,
   125,
   128,
   132,
   134,
   138,
   142,
   146,
   150,
   154,
   156
  ]
 },
 "nbformat": 4,
 "nbformat_minor": 5
}