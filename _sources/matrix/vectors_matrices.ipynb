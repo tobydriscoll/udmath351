{
 "cells": [
  {
   "cell_type": "markdown",
   "id": "reasonable-album",
   "metadata": {},
   "source": [
    "# Vectors and matrices\n",
    "\n",
    "The objects most of interest to us for now are *vectors* and *matrices*.\n",
    "\n",
    "````{proof:definition} Vector\n",
    "A **vector** is a finite collection of numbers called its elements. The set of all vectors with $n$ real-valued elements is denoted $\\real^n$. If the elements are complex numbers, we use the name $\\complex^n$. \n",
    "````\n",
    "\n",
    "```{warning}\n",
    "Complex numbers are coming. They play an essential role in understanding dynamics.\n",
    "```\n",
    "\n",
    "I use boldfaced lowercase letters to represent vectors, and a subscript to refer to an individual element within one. For instance, $x_3$ is the third element of a vector $\\bfx$.\n",
    "\n",
    "There is one more big definition to get out of the way before we really dive in.\n",
    "\n",
    "````{proof:definition} Matrix\n",
    "A **matrix** is an $m\\times n$ array of numbers called its elements. The set of all $m\\times n$ matrices with real elements is denoted $\\rmn{m}{n}$, and with complex elements it's $\\cmn{m}{n}$. \n",
    "````\n",
    "\n",
    "I use boldfaced uppercase letters to represent vectors, and a pair of subscripts to refer to an individual element within one. For instance, $A_{23}$ is the element in row 2, column 3 of the matrix $\\bfA$.\n",
    "\n",
    "```{note}\n",
    "Matrix subscripts are always in the order row first, column second. (This is the opposite of Excel, which is just one of myriad reasons that Excel is evil.)\n",
    "```\n",
    "\n",
    "As you might suspect, there's a lot more to vectors and matrices than these innocent definitions let on. The consequences of making algebraic rules that bind vectors and matrices to describe linear functions will comprise our brief tour of linear algebra.\n",
    "\n",
    "## MATLAB\n",
    "\n",
    "MATLAB stands for \"matrix laboratory,\" and it's a natural place to compute with vectors and matrices. One caution, though: it operates with numbers of finite precision, like a calculator, rather than with exact expressions like Mathematica. Hence things that are supposed to be equal might only be approximately so.\n",
    "\n",
    "To construct small vectors and matrices, put elements inside square brackets. Spaces separate columns, and semicolons separate rows."
   ]
  },
  {
   "cell_type": "code",
   "execution_count": 1,
   "id": "viral-answer",
   "metadata": {},
   "outputs": [
    {
     "data": {
      "text/plain": [
       "3-element Vector{Int64}:\n",
       " 10\n",
       " 20\n",
       " 30"
      ]
     },
     "execution_count": 1,
     "metadata": {},
     "output_type": "execute_result"
    }
   ],
   "source": [
    "x = [1,2,-3,-4]\n",
    "y = [10, 20, 30]"
   ]
  },
  {
   "cell_type": "code",
   "execution_count": 2,
   "id": "intellectual-australian",
   "metadata": {},
   "outputs": [
    {
     "data": {
      "text/plain": [
       "3×3 Matrix{Float64}:\n",
       "  1.0       2.0       3.0\n",
       " -4.0      -5.0      -6.0\n",
       "  3.14159   1.41421   2.71828"
      ]
     },
     "execution_count": 2,
     "metadata": {},
     "output_type": "execute_result"
    }
   ],
   "source": [
    "A = [ 1 2 3; -4 -5 -6; pi sqrt(2) exp(1) ]"
   ]
  },
  {
   "cell_type": "markdown",
   "id": "emotional-preview",
   "metadata": {},
   "source": [
    ":::{admonition} Mathematical constants\n",
    ":class: note\n",
    "The constant $\\pi$ is defined automatically as `pi`. The constant `e` is not defined, and expressions like $e^{-2}$ causes an error if you have not previously defined `e`. Instead, use the exponential function `exp`; note that $e=\\exp(1)$.\n",
    ":::\n",
    "\n",
    "As you can see from this output, MATLAB allows two kinds of vector: a row vector, which has a single row, and a column vector, which has a single column. The distinction doesn't always matter, but when it does, it really does. We are going to make a blanket assumption that serves well most of the time.\n",
    "\n",
    "```{note}\n",
    "All vectors are assumed to have a column shape.\n",
    "```\n",
    "\n",
    "We can get the dimensions of a vector using `size`."
   ]
  },
  {
   "cell_type": "code",
   "execution_count": 3,
   "id": "earlier-housing",
   "metadata": {},
   "outputs": [
    {
     "name": "stdout",
     "output_type": "stream",
     "text": [
      "(size(x), size(y), size(A)) = ((4,), (3,), (3, 3))\n"
     ]
    }
   ],
   "source": [
    "@show size(x), size(y), size(A);"
   ]
  },
  {
   "cell_type": "markdown",
   "id": "straight-czech",
   "metadata": {},
   "source": [
    "You can see from the above that we can concatenate vectors and matrices inside square brackets. Also:\n",
    "\n",
    "```{note}\n",
    "MATLAB makes no distinction between a column vector in $\\real^n$ and an $n\\times 1$ matrix in $\\rmn{n}{1}$.\n",
    "```\n",
    "\n",
    "To access individual elements in a vector or matrix, use parentheses. The `end` keyword always stands for the last element in its dimension."
   ]
  },
  {
   "cell_type": "code",
   "execution_count": 4,
   "id": "amber-scanner",
   "metadata": {},
   "outputs": [
    {
     "data": {
      "text/plain": [
       "2"
      ]
     },
     "execution_count": 4,
     "metadata": {},
     "output_type": "execute_result"
    }
   ],
   "source": [
    "x_2 = x[2]"
   ]
  },
  {
   "cell_type": "code",
   "execution_count": 5,
   "id": "warming-selection",
   "metadata": {},
   "outputs": [
    {
     "data": {
      "text/plain": [
       "3.141592653589793"
      ]
     },
     "execution_count": 5,
     "metadata": {},
     "output_type": "execute_result"
    }
   ],
   "source": [
    "A_31 = A[3,1]"
   ]
  },
  {
   "cell_type": "code",
   "execution_count": 6,
   "id": "ambient-network",
   "metadata": {},
   "outputs": [
    {
     "data": {
      "text/plain": [
       "30"
      ]
     },
     "execution_count": 6,
     "metadata": {},
     "output_type": "execute_result"
    }
   ],
   "source": [
    "y_last = y[end]"
   ]
  },
  {
   "cell_type": "markdown",
   "id": "nearby-touch",
   "metadata": {},
   "source": [
    "The indexing syntax also works for assigning values within a vector or matrix."
   ]
  },
  {
   "cell_type": "code",
   "execution_count": 7,
   "id": "central-spectrum",
   "metadata": {},
   "outputs": [
    {
     "data": {
      "text/plain": [
       "3×3 Matrix{Float64}:\n",
       " 1.0       2.0       3.0\n",
       " 0.0      -5.0      -6.0\n",
       " 3.14159   1.41421   2.71828"
      ]
     },
     "execution_count": 7,
     "metadata": {},
     "output_type": "execute_result"
    }
   ],
   "source": [
    "A[2,1] = 0\n",
    "A"
   ]
  }
 ],
 "metadata": {
  "jupytext": {
   "cell_metadata_filter": "-all",
   "formats": "md:myst",
   "text_representation": {
    "extension": ".md",
    "format_name": "myst",
    "format_version": 0.13,
    "jupytext_version": "1.10.3"
   }
  },
  "kernelspec": {
   "display_name": "Julia 1.6.1",
   "language": "julia",
   "name": "julia-1.6"
  },
  "language_info": {
   "file_extension": ".jl",
   "mimetype": "application/julia",
   "name": "julia",
   "version": "1.6.2"
  },
  "source_map": [
   14,
   50,
   55,
   57,
   72,
   74,
   84,
   88,
   92,
   94,
   98
  ]
 },
 "nbformat": 4,
 "nbformat_minor": 5
}