{
 "cells": [
  {
   "cell_type": "markdown",
   "id": "c9cf9fca",
   "metadata": {},
   "source": [
    "# Vector algebra\n",
    "\n",
    "Vectors support two basic operations. The first is addition. Two vectors of the same size can be added together elementwise. (The same is true for subtraction.) If the vectors have different sizes, the operation is not defined.\n",
    "\n",
    "::::{proof:example}\n",
    "If $\\bfx=[1;\\: 2;\\: 3]$ and $\\bfy=[-2;\\: 2;\\: 0]$, then \n",
    "```{math}\n",
    "\\bfx + \\bfy = \\begin{bmatrix} -1\\\\4\\\\3 \\end{bmatrix}.\n",
    "```\n",
    "::::\n",
    "\n",
    "Things get a little more interesting with multiplication. We begin with **scalar multiplication`, which is between a number and a vector. Each element is multiplied by the number. In this context we call a number a {term}`scalar**, since it scales all the elements equally.\n",
    "\n",
    "::::{proof:example}\n",
    "If $\\bfx=[1;\\: 2;\\: 3]$, then\n",
    "```{math}\n",
    "3\\bfx = \\begin{bmatrix} 3\\\\6\\\\9 \\end{bmatrix}.\n",
    "```\n",
    "::::\n",
    "\n",
    "## Linear combination\n",
    "\n",
    "Vector addition and scalar multiplication combine to give an operation we will use repeatedly for both linear algebra and differential equations.\n",
    "\n",
    "(definition-linalg-linear-combination)=\n",
    "\n",
    "````{proof:definition} Linear combination\n",
    "Given scalars $c_1,\\ldots,c_n$ and the same number of vectors $\\bfx_1,\\ldots,\\bfx_n$, all in $\\real^m$ or $\\complex^m$, a **linear combination** of them is\n",
    "```{math}\n",
    "c_1 \\bfx_1 + c_2 \\bfx_2 + \\cdots c_n \\bfx_n,\n",
    "```\n",
    "where the $c_j$ are called **coefficients** of the linear combination.\n",
    "````\n",
    "\n",
    "Linear combinations interact conveniently with linear functions. If $L$ is linear, then according to the properties in the [definition of linearity](definition-linear),\n",
    "\n",
    "$$\n",
    "L( c_1 \\bfx_1 + c_2 \\bfx_2 + \\cdots c_n \\bfx_n ) = c_1 L(\\bfx_1) + c_2 L(\\bfx_2) + \\cdots + c_n L(\\bfx_n).\n",
    "$$\n",
    "\n",
    "This mundane-looking equation is the basis of a lot of important mathematics.\n",
    "\n",
    "## Linear combinations and systems\n",
    "\n",
    "An equation about linear combination of vectors is equivalent to a linear system of equations. For example, consider the system\n",
    "\n",
    "\\begin{align*}\n",
    "x_1 - x_2  - x_3 & = 2 \\\\\n",
    "3x_1 - 2x_2 & = 9 \\\\\n",
    "x_1 - 2x_2 - x_3 & = 5.\n",
    "\\end{align*}\n",
    "\n",
    "Interpreting vector equalities elementwise, this is equivalent to\n",
    "\n",
    "```{math}\n",
    ":label: linsys-lincomb\n",
    "x_1 \\threevec{1}{3}{1} + x_2 \\threevec{-1}{-2}{-2} + x_3 \\threevec{-1}{0}{-1} = \\threevec{2}{9}{5}.\n",
    "```\n",
    "\n",
    "We can identify the three vectors on the left side as the columns of the coefficient matrix $\\bfA$, and the one on the right is $\\bfb$. I.e.,\n",
    "\n",
    "```{math}\n",
    "x_1 \\bfa_1 + x_2 \\bfa_2 + x_3 \\bfa_3 = \\bfb,\n",
    "```\n",
    "\n",
    "where we gave names to the columns. It's not hard to find the solution $\\bfx=[1;\\:-3;\\:2]$. Hence\n",
    "\n",
    "```{math}\n",
    "\\bfa_1 - 3 \\bfa_2 + 2\\bfa_3 = \\bfb.\n",
    "```\n",
    "\n",
    "<!-- ## Vector multiplication\n",
    "\n",
    "There are two kinds of multiplication between vectors. One is the **inner product**, which is defined only for vectors of the same size. In the case of $\\real^4$, for example,\n",
    "\n",
    "```{math}\n",
    "\\bfx^T \\bfy = x_1 y_1 + x_2 y_2 + x_3 y_3 + x_4y_4.\n",
    "```\n",
    "\n",
    "```{note}\n",
    "The ${}^T$ superscript means **transpose**, which converts matrix and vector rows to columns and vice versa. \n",
    "```\n",
    "\n",
    "The result is a scalar (i.e., number). This is the same as the dot product of vector calculus in two or three dimensions.\n",
    "\n",
    "The other method of vector multiplication is *not* the cross product, however. It is the **outer product**, which is defined for vectors of any sizes. It is easiest to demonstrate for small dimensions. If $\\bfx\\in\\real^3$ and $\\bfy\\in\\real^4$, then\n",
    "\n",
    "$$\n",
    "\\bfx\\bfy^T = \\begin{bmatrix}  x_1 y_1 & x_1y_2 & x_1 y_3 & x_1y_4 \\\\\n",
    "x_2 y_1 & x_2y_2 & x_2 y_3 & x_2y_4 \\\\\n",
    "x_3 y_1 & x_3y_2 & x_3 y_3 & x_3y_4  \n",
    "\\end{bmatrix}.\n",
    "$$\n",
    "\n",
    "In general, if $\\bfx$ is an $m$-vector and $\\bfy$ is an $n$-vector, then $\\bfx\\bfy^T$ is an $m\\times n$ matrix whose $(i,j)$ element is $x_iy_j$. We will not have a lot of use for outer products, but they have generated renewed interest of late in machine learning methods. -->\n",
    "\n",
    "## MATLAB\n",
    "\n",
    "If two vectors have the same size, then `+` and `-` work elementwise."
   ]
  },
  {
   "cell_type": "code",
   "execution_count": 1,
   "id": "b0af343e",
   "metadata": {},
   "outputs": [
    {
     "data": {
      "text/plain": [
       "3-element Vector{Int64}:\n",
       " 10\n",
       " 10\n",
       " 10"
      ]
     },
     "execution_count": 1,
     "metadata": {},
     "output_type": "execute_result"
    }
   ],
   "source": [
    "[1,2,3] + [9,8,7]"
   ]
  },
  {
   "cell_type": "markdown",
   "id": "ebeb7760",
   "metadata": {},
   "source": [
    "For column vectors of different sizes, these operations cause errors."
   ]
  },
  {
   "cell_type": "code",
   "execution_count": 2,
   "id": "850792b1",
   "metadata": {
    "tags": [
     "raises-exception"
    ]
   },
   "outputs": [
    {
     "ename": "LoadError",
     "evalue": "DimensionMismatch(\"dimensions must match: a has dims (Base.OneTo(4),), b has dims (Base.OneTo(3),), mismatch at 1\")",
     "output_type": "error",
     "traceback": [
      "DimensionMismatch(\"dimensions must match: a has dims (Base.OneTo(4),), b has dims (Base.OneTo(3),), mismatch at 1\")",
      "",
      "Stacktrace:",
      " [1] promote_shape",
      "   @ ./indices.jl:178 [inlined]",
      " [2] promote_shape",
      "   @ ./indices.jl:169 [inlined]",
      " [3] -(A::Vector{Int64}, B::Vector{Int64})",
      "   @ Base ./arraymath.jl:38",
      " [4] top-level scope",
      "   @ In[2]:1",
      " [5] eval",
      "   @ ./boot.jl:360 [inlined]",
      " [6] include_string(mapexpr::typeof(REPL.softscope), mod::Module, code::String, filename::String)",
      "   @ Base ./loading.jl:1116"
     ]
    }
   ],
   "source": [
    "[1,2,3,4] - [1,0,1]"
   ]
  },
  {
   "cell_type": "markdown",
   "id": "8607a283",
   "metadata": {},
   "source": [
    "As a convenience, you can add or subtract a scalar to or from a vector, and the scalar will be used with each element."
   ]
  },
  {
   "cell_type": "code",
   "execution_count": 3,
   "id": "3874baa5",
   "metadata": {},
   "outputs": [
    {
     "data": {
      "text/plain": [
       "3-element Vector{Complex{Int64}}:\n",
       " 1 - 1im\n",
       " 2 - 1im\n",
       " 3 - 1im"
      ]
     },
     "execution_count": 3,
     "metadata": {},
     "output_type": "execute_result"
    }
   ],
   "source": [
    "[1,2,3] .- 1im"
   ]
  },
  {
   "cell_type": "markdown",
   "id": "fc7d5d6f",
   "metadata": {},
   "source": [
    "The `*` operator does scalar multiplication."
   ]
  },
  {
   "cell_type": "code",
   "execution_count": 4,
   "id": "ddd3ff83",
   "metadata": {},
   "outputs": [
    {
     "data": {
      "text/plain": [
       "4-element Vector{Int64}:\n",
       " -4\n",
       " -3\n",
       " -2\n",
       " -1"
      ]
     },
     "execution_count": 4,
     "metadata": {},
     "output_type": "execute_result"
    }
   ],
   "source": [
    "-1*[4,3,2,1]"
   ]
  },
  {
   "cell_type": "markdown",
   "id": "4e79042a",
   "metadata": {},
   "source": [
    "So we can express the linear system in {eq}`linsys-lincomb` using a linear combination of column vectors:"
   ]
  },
  {
   "cell_type": "code",
   "execution_count": 5,
   "id": "e565ad81",
   "metadata": {},
   "outputs": [
    {
     "data": {
      "text/plain": [
       "3-element Vector{Int64}:\n",
       " 2\n",
       " 9\n",
       " 5"
      ]
     },
     "execution_count": 5,
     "metadata": {},
     "output_type": "execute_result"
    }
   ],
   "source": [
    "A = [1 -1 -1; 3 -2 0; 1 -2 -1]    # coefficient matrix\n",
    "b = [2,9,5]    # right-side vector"
   ]
  },
  {
   "cell_type": "code",
   "execution_count": 6,
   "id": "6a83ad41",
   "metadata": {},
   "outputs": [
    {
     "data": {
      "text/plain": [
       "3-element Vector{Int64}:\n",
       " 2\n",
       " 9\n",
       " 5"
      ]
     },
     "execution_count": 6,
     "metadata": {},
     "output_type": "execute_result"
    }
   ],
   "source": [
    "1*A[:,1] - 3*A[:,2] + 2*A[:,3]"
   ]
  }
 ],
 "metadata": {
  "jupytext": {
   "cell_metadata_filter": "-all",
   "formats": "md:myst",
   "text_representation": {
    "extension": ".md",
    "format_name": "myst",
    "format_version": 0.13,
    "jupytext_version": "1.10.3"
   }
  },
  "kernelspec": {
   "display_name": "Julia 1.6.1",
   "language": "julia",
   "name": "julia-1.6"
  },
  "language_info": {
   "file_extension": ".jl",
   "mimetype": "application/julia",
   "name": "julia",
   "version": "1.6.2"
  },
  "source_map": [
   14,
   116,
   118,
   122,
   126,
   130,
   132,
   136,
   138,
   142,
   147
  ]
 },
 "nbformat": 4,
 "nbformat_minor": 5
}