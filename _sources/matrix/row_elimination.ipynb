{
 "cells": [
  {
   "cell_type": "markdown",
   "id": "gorgeous-briefs",
   "metadata": {},
   "source": [
    "# Row elimination\n",
    "\n",
    "You've probably solved small systems of equations by substitution. In order to solve systems with more equations and variables, we systematize the idea as an elimination process. The goal of elimination is to transform the system to an equivalent one whose solution(s) we can deduce easily.\n",
    "\n",
    "(example-gauss-elimination)=\n",
    "\n",
    "::::{proof:example}\n",
    "\n",
    "Use elimination to solve the $3\\times 3$ system\n",
    "\n",
    "\\begin{align*}\n",
    "x_1 - x_2  - x_3 & = 2, \\\\\n",
    "3x_1 - 2x_2 & = 9, \\\\\n",
    "x_1 - 2x_2 - x_3 & = 5.\n",
    "\\end{align*}\n",
    "\n",
    ":::{dropdown} Solution\n",
    "\n",
    "The first step is to use the first equation to eliminate $x_1$ from the second and third equations. We therefore subtract 3 times equation 1 from equation 2, and 1 times equation 1 from equation 3:\n",
    "\n",
    "\\begin{align*}\n",
    " x_1 - x_2  - x_3  & = 2, \\\\\n",
    "(3x_1 - 2x_2) - 3(x_1 - x_2  - x_3) & = 9 - 3(2),\\\\\n",
    "(x_1 - 2x_2 - x_3) - 1(x_1 - x_2  - x_3) & = 5 - 1(2) .\n",
    "\\end{align*}\n",
    "\n",
    "This takes us to\n",
    "\\begin{align*}\n",
    " x_1 - x_2  - x_3  & = 2,  \\\\\n",
    "x_2 + 3x_3 & = 3, \\\\\n",
    "-x_2 &= 3.\n",
    "\\end{align*}\n",
    "\n",
    "It's tempting to grab that last equation and use it to remove $x_2$ from everything else. That certainly works, and it's what you want to do by hand. But we are aiming for a fully automatic system that works every time, so we will act as though the last equation still contains $x_3$ and is not so trivial.\n",
    "\n",
    "The next step of the recipe is to leave the first equation alone, and use the second to eliminate $x_2$ from all the others below it; in this case, it's just the third equation.\n",
    "\n",
    "\\begin{align*}\n",
    " x_1 - x_2  - x_3  & = 2, \\\\\n",
    "x_2 + 3x_3 & = 3, \\\\\n",
    "(-x_2) + (x_2+3x_3)  & = 3 + 3.\n",
    "\\end{align*}\n",
    "\n",
    "We now have a system in so-called *triangular* form,\n",
    "\n",
    "\\begin{align*}\n",
    " x_1 - x_2  - x_3  & = 2, \\\\\n",
    "x_2 + 3x_3 & = 3, \\\\\n",
    "3x_3  & = 6.\n",
    "\\end{align*}\n",
    ":::\n",
    "::::\n",
    "\n",
    "The process in [the preceding example](example-gauss-elimination) is most commonly known as **Gaussian elimination**. (It's a misnomer, as the process was known in China thousands of years before Gauss, but never mind.) We could solve the triangular system at the end of the example by starting with the last equation to deduce that $x_3=2$. We then put that value into the second equation and can solve that for $x_2$, etc.\n",
    "\n",
    "Instead, though, we are going to continue to manipulate the system to get something even simpler.\n",
    "\n",
    "(example-gauss-jordan)=\n",
    "\n",
    "::::{admonition} Example (continued)\n",
    ":class: tip \n",
    "\n",
    "We continue from the end of [the preceding example](example-gauss-elimination).  Having reached the last variable and equation, we turn around and eliminate *upwards* instead:\n",
    "\n",
    "\\begin{align*}\n",
    "(x_1 - x_2 - x_3) + \\frac{1}{3}(3x_3) & = 2  +\\frac{1}{3}(6), \\\\\n",
    "(x_2 + 3x_3) - (3x_3) & = 3 - (6),\\\\\n",
    "3x_3  & = 6.\n",
    "\\end{align*}\n",
    "\n",
    "This leaves the system as\n",
    "\\begin{align*}\n",
    " x_1  -x_2 & = 4,\\\\\n",
    "x_2 & = -3,\\\\\n",
    "3x_3  & = 6.\n",
    "\\end{align*}\n",
    "\n",
    "Continue moving upwards, to the second equation, and use it to eliminate within the one above it:\n",
    "\n",
    "\\begin{align*}\n",
    "(x_1 - x_2 ) + (x_2) & = 4  + (-3),\\\\\n",
    "x_2 & = -3,\\\\\n",
    "3x_3  & = 6. \n",
    "\\end{align*}\n",
    "\n",
    "The system is now trivial: $x_1=1$, $x_2=-3$, and $3x_3=6$.\n",
    "::::\n",
    "\n",
    "That was a mouthful. We can lighten the notational load by using matrices. We start with the $m\\times (n+1)$ **augmented matrix** $\\bfG = [\\bfA\\:\\bfb]$ that contains all the equation coefficients and right-side values. We repeat the previous process in augmented matrix form, starting from\n",
    "\n",
    "$$\n",
    "\\bfG = \n",
    "\\begin{bmatrix}\n",
    "1 & -1 & -1 & 2 \\\\\n",
    "3 & -2 & 0 & 9 \\\\\n",
    "1 & -2 & -1 & 5\n",
    "\\end{bmatrix}.\n",
    "$$\n",
    "\n",
    "(Observe that when a variable is absent from an equation, its corresponding element in $\\bfG$ is zero.) To ease the arithmetic, we do the elimination in MATLAB."
   ]
  },
  {
   "cell_type": "code",
   "execution_count": 1,
   "id": "vanilla-malpractice",
   "metadata": {},
   "outputs": [
    {
     "data": {
      "text/plain": [
       "3×4 Matrix{Float64}:\n",
       " 1.0  -1.0  -1.0  2.0\n",
       " 3.0  -2.0   0.0  9.0\n",
       " 1.0  -2.0  -1.0  5.0"
      ]
     },
     "execution_count": 1,
     "metadata": {},
     "output_type": "execute_result"
    }
   ],
   "source": [
    "G = float([1 -1 -1 2; 3 -2 0 9; 1 -2 -1 5])"
   ]
  },
  {
   "cell_type": "markdown",
   "id": "unique-latest",
   "metadata": {},
   "source": [
    "The first elimination step uses multiples of the first row to eliminate below it. Note that in MATLAB, `G[1,:]` refers to the entire first row of `G`, etc."
   ]
  },
  {
   "cell_type": "code",
   "execution_count": 2,
   "id": "whole-afghanistan",
   "metadata": {},
   "outputs": [
    {
     "data": {
      "text/plain": [
       "3×4 Matrix{Float64}:\n",
       " 1.0  -1.0  -1.0  2.0\n",
       " 0.0   1.0   3.0  3.0\n",
       " 1.0  -2.0  -1.0  5.0"
      ]
     },
     "execution_count": 2,
     "metadata": {},
     "output_type": "execute_result"
    }
   ],
   "source": [
    "G[2,:] = G[2,:] - 3*G[1,:]\n",
    "G"
   ]
  },
  {
   "cell_type": "code",
   "execution_count": 3,
   "id": "requested-chile",
   "metadata": {},
   "outputs": [
    {
     "data": {
      "text/plain": [
       "3×4 Matrix{Float64}:\n",
       " 1.0  -1.0  -1.0  2.0\n",
       " 0.0   1.0   3.0  3.0\n",
       " 0.0  -1.0   0.0  3.0"
      ]
     },
     "execution_count": 3,
     "metadata": {},
     "output_type": "execute_result"
    }
   ],
   "source": [
    "G[3,:] = G[3,:] - 1*G[1,:]\n",
    "G"
   ]
  },
  {
   "cell_type": "markdown",
   "id": "critical-trustee",
   "metadata": {},
   "source": [
    "Next we use the second row to eliminate below it."
   ]
  },
  {
   "cell_type": "code",
   "execution_count": 4,
   "id": "handy-harmony",
   "metadata": {},
   "outputs": [
    {
     "data": {
      "text/plain": [
       "3×4 Matrix{Float64}:\n",
       " 1.0  -1.0  -1.0  2.0\n",
       " 0.0   1.0   3.0  3.0\n",
       " 0.0   0.0   3.0  6.0"
      ]
     },
     "execution_count": 4,
     "metadata": {},
     "output_type": "execute_result"
    }
   ],
   "source": [
    "G[3,:] -= (-1)*G[2,:]\n",
    "G"
   ]
  },
  {
   "cell_type": "markdown",
   "id": "sharp-century",
   "metadata": {},
   "source": [
    "Having reached the last row, we turn around and use it to eliminate above it in column 3."
   ]
  },
  {
   "cell_type": "code",
   "execution_count": 5,
   "id": "roman-custody",
   "metadata": {},
   "outputs": [
    {
     "data": {
      "text/plain": [
       "3×4 Matrix{Float64}:\n",
       " 1.0  -1.0  -1.0   2.0\n",
       " 0.0   1.0   0.0  -3.0\n",
       " 0.0   0.0   3.0   6.0"
      ]
     },
     "execution_count": 5,
     "metadata": {},
     "output_type": "execute_result"
    }
   ],
   "source": [
    "G[2,:] -= 1*G[3,:]\n",
    "G"
   ]
  },
  {
   "cell_type": "code",
   "execution_count": 6,
   "id": "relevant-hammer",
   "metadata": {},
   "outputs": [
    {
     "data": {
      "text/plain": [
       "3×4 Matrix{Float64}:\n",
       " 1.0  -1.0  0.0   4.0\n",
       " 0.0   1.0  0.0  -3.0\n",
       " 0.0   0.0  3.0   6.0"
      ]
     },
     "execution_count": 6,
     "metadata": {},
     "output_type": "execute_result"
    }
   ],
   "source": [
    "G[1,:] -= (-1/3)*G[3,:]\n",
    "G"
   ]
  },
  {
   "cell_type": "markdown",
   "id": "medical-drink",
   "metadata": {},
   "source": [
    "We move up to the second row and eliminate above that in column 2."
   ]
  },
  {
   "cell_type": "code",
   "execution_count": 7,
   "id": "affiliated-departure",
   "metadata": {},
   "outputs": [
    {
     "data": {
      "text/plain": [
       "3×4 Matrix{Float64}:\n",
       " 1.0  0.0  0.0   1.0\n",
       " 0.0  1.0  0.0  -3.0\n",
       " 0.0  0.0  3.0   6.0"
      ]
     },
     "execution_count": 7,
     "metadata": {},
     "output_type": "execute_result"
    }
   ],
   "source": [
    "G[1,:] -= (-1)*G[2,:]\n",
    "G"
   ]
  },
  {
   "cell_type": "markdown",
   "id": "pharmaceutical-merit",
   "metadata": {},
   "source": [
    "Finally, to be super pedantic, we normalize the last row by its leading nonzero."
   ]
  },
  {
   "cell_type": "code",
   "execution_count": 8,
   "id": "handmade-degree",
   "metadata": {},
   "outputs": [
    {
     "data": {
      "text/plain": [
       "3×4 Matrix{Float64}:\n",
       " 1.0  0.0  0.0   1.0\n",
       " 0.0  1.0  0.0  -3.0\n",
       " 0.0  0.0  1.0   2.0"
      ]
     },
     "execution_count": 8,
     "metadata": {},
     "output_type": "execute_result"
    }
   ],
   "source": [
    "G[3,:] = G[3,:]/G[3,3]\n",
    "G"
   ]
  },
  {
   "cell_type": "markdown",
   "id": "confused-gregory",
   "metadata": {},
   "source": [
    "The result is the augmented matrix of the system\n",
    "\n",
    "$$\n",
    "\\begin{matrix}\n",
    "x_1 & & &= &1 \\\\\n",
    "& x_2 & &= &-3 \\\\\n",
    "& & x_3 &= &2,\n",
    "\\end{matrix}\n",
    "$$\n",
    "\n",
    "whose solution is obvious.\n",
    "\n",
    "The process just demonstrated is best known as *Gauss–Jordan elimination*, or more simply, **row elimination**. As seen in the examples, row elimination consists of two phases, one downward (Gaussian elimination) and one upward. The goal is to put the augmented matrix into a special form.\n",
    "\n",
    "In the next section we get more formal about the process and results. For now, let's look at an example that works out differently. We solve the system having augmented matrix\n",
    "\n",
    "$$\n",
    "\\begin{bmatrix}\n",
    "1 & 1 & -1 & 4 \\\\\n",
    "1 & 2 & 2 & 3 \\\\\n",
    "2 & 1 & -5 & 9\n",
    "\\end{bmatrix}.\n",
    "$$\n",
    "\n",
    "First, we use multiples of the first row to eliminate in the first column below it."
   ]
  },
  {
   "cell_type": "code",
   "execution_count": 9,
   "id": "through-implementation",
   "metadata": {},
   "outputs": [
    {
     "data": {
      "text/plain": [
       "3×4 Matrix{Int64}:\n",
       " 1   1  -1   4\n",
       " 0   1   3  -1\n",
       " 0  -1  -3   1"
      ]
     },
     "execution_count": 9,
     "metadata": {},
     "output_type": "execute_result"
    }
   ],
   "source": [
    "G = [ 1 1 -1 4; 1 2 2 3; 2 1 -5 9]\n",
    "G[2,:] = G[2,:] - 1*G[1,:]\n",
    "G[3,:] = G[3,:] - 2*G[1,:]\n",
    "G"
   ]
  },
  {
   "cell_type": "markdown",
   "id": "colored-alberta",
   "metadata": {},
   "source": [
    "Now use a multiple of the second row to put a zero underneath it in column 2."
   ]
  },
  {
   "cell_type": "code",
   "execution_count": 10,
   "id": "arranged-afternoon",
   "metadata": {},
   "outputs": [
    {
     "data": {
      "text/plain": [
       "3×4 Matrix{Int64}:\n",
       " 1  1  -1   4\n",
       " 0  1   3  -1\n",
       " 0  0   0   0"
      ]
     },
     "execution_count": 10,
     "metadata": {},
     "output_type": "execute_result"
    }
   ],
   "source": [
    "G[3,:] -= (-1)*G[2,:]\n",
    "G"
   ]
  },
  {
   "cell_type": "markdown",
   "id": "general-breed",
   "metadata": {},
   "source": [
    "We have reached the last row, and it's time to turn around and eliminate upwards. But because the last row is entirely zero, it can't make changes to the rows above it. So we skip that and move up to the second row, eliminating upwards in the second column."
   ]
  },
  {
   "cell_type": "code",
   "execution_count": 11,
   "id": "physical-airline",
   "metadata": {},
   "outputs": [
    {
     "data": {
      "text/plain": [
       "3×4 Matrix{Int64}:\n",
       " 1  0  -4   5\n",
       " 0  1   3  -1\n",
       " 0  0   0   0"
      ]
     },
     "execution_count": 11,
     "metadata": {},
     "output_type": "execute_result"
    }
   ],
   "source": [
    "G[1,:] -= 1*G[2,:]\n",
    "G"
   ]
  },
  {
   "cell_type": "markdown",
   "id": "norwegian-childhood",
   "metadata": {},
   "source": [
    "This is as simple as we can get things. The last row is telling us the astounding fact that $0=0$—i.e., nothing at all. The other two rows imply\n",
    "\n",
    "\\begin{align*}\n",
    "x_1 &= 5 + 4x_3, \\\\\n",
    "x_2 &= -1 - 3x_3.\n",
    "\\end{align*}\n",
    "\n",
    "Since the third row gave us no information, we take the attitude that $x_3$ is unrestricted. That is,\n",
    "\n",
    "\\begin{align*}\n",
    "x_1 &= 5 + 4s, \\\\\n",
    "x_2 &= -1 - 3s, \\\\\n",
    "x_3 &= s.\n",
    "\\end{align*}\n",
    "\n",
    "is a solution for any value of $s$, and we have an infinite family of solutions."
   ]
  }
 ],
 "metadata": {
  "jupytext": {
   "cell_metadata_filter": "-all",
   "formats": "md:myst",
   "text_representation": {
    "extension": ".md",
    "format_name": "myst",
    "format_version": 0.13,
    "jupytext_version": "1.10.3"
   }
  },
  "kernelspec": {
   "display_name": "Julia 1.6.1",
   "language": "julia",
   "name": "julia-1.6"
  },
  "language_info": {
   "file_extension": ".jl",
   "mimetype": "application/julia",
   "name": "julia",
   "version": "1.6.2"
  },
  "source_map": [
   14,
   117,
   119,
   123,
   128,
   131,
   135,
   138,
   142,
   147,
   150,
   154,
   157,
   161,
   164,
   192,
   197,
   201,
   204,
   208,
   211
  ]
 },
 "nbformat": 4,
 "nbformat_minor": 5
}